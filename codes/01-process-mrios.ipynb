{
 "cells": [
  {
   "attachments": {},
   "cell_type": "markdown",
   "metadata": {},
   "source": [
    "# Process ADB MRIO Excel files\n",
    "\n",
    "This notebook converts the ADB MRIO Excel files into machine-readable format and saves them as space-efficient parquet files. These are stored in `data/interim/`. "
   ]
  },
  {
   "cell_type": "code",
   "execution_count": 1,
   "metadata": {},
   "outputs": [],
   "source": [
    "import pandas as pd\n",
    "import os\n",
    "import re"
   ]
  },
  {
   "cell_type": "code",
   "execution_count": 2,
   "metadata": {},
   "outputs": [],
   "source": [
    "def process_table(df):\n",
    "    \n",
    "    # Remove the last row and the first 2 columns\n",
    "    df = df.drop(df.index[-1])\n",
    "    df = df.iloc[:, 2:]\n",
    "\n",
    "    # Collapse MultiIndex headers into one\n",
    "    df.columns = [f'{level_1}_{level_2}' for level_1, level_2 in df.columns]\n",
    "\n",
    "    # Rename the ToT column\n",
    "    colnames = df.columns.tolist()\n",
    "    mapping = {colnames[-1]: 'ToT'}\n",
    "    df = df.rename(columns=mapping)\n",
    "\n",
    "    # Fix row labels\n",
    "    rowlabels = [f\"{c}_{d}\" if not (pd.isna(c) or c == 'ToT') else d for c, d in zip(df.iloc[:, 0], df.iloc[:, 1])]\n",
    "    df.insert(2, '', rowlabels)\n",
    "    df = df.iloc[:, 2:]\n",
    "    \n",
    "    # Drop intermediates totals\n",
    "    df = df.drop(df[df[''] == 'r60'].index)\n",
    "\n",
    "    # Replace blank cells with zero\n",
    "    df = df.replace(' ', 0)\n",
    "\n",
    "    return df"
   ]
  },
  {
   "cell_type": "code",
   "execution_count": 3,
   "metadata": {},
   "outputs": [],
   "source": [
    "def load_and_save(inputfolder, outputfolder, outputfile, outputsuffix=None):\n",
    "    \n",
    "    filelist = [file for file in os.listdir(f'../data/raw/{inputfolder}') if not file.startswith('.')]\n",
    "\n",
    "    for file in filelist:\n",
    "        mrio = pd.read_excel(\n",
    "            f'../data/raw/{folder}/{file}',\n",
    "            skiprows=5,\n",
    "            header=[0,1]\n",
    "        )\n",
    "        mrio = process_table(mrio)\n",
    "        year = re.search('[0-9]{4}', file).group()\n",
    "        \n",
    "        if outputsuffix is None:\n",
    "            mrio.to_parquet(f'../data/mrio/{outputfolder}/{outputfile}-{year}.parquet', index=False)\n",
    "        else:\n",
    "            mrio.to_parquet(f'../data/mrio/{outputfolder}/{outputfile}-{year}{outputsuffix}.parquet', index=False)\n",
    "        \n",
    "        print(f'{year} done')"
   ]
  },
  {
   "attachments": {},
   "cell_type": "markdown",
   "metadata": {},
   "source": [
    "## ADB MRIO 72 economies"
   ]
  },
  {
   "cell_type": "code",
   "execution_count": 4,
   "metadata": {},
   "outputs": [
    {
     "name": "stdout",
     "output_type": "stream",
     "text": [
      "2021 done\n",
      "2019 done\n",
      "2022 done\n",
      "2018 done\n",
      "2017 done\n",
      "2020 done\n"
     ]
    }
   ],
   "source": [
    "folder = 'ADB MRIO, 72 economies'\n",
    "load_and_save(inputfolder=folder, outputfolder='ADB-MRIO', outputfile='ADB-MRIO')"
   ]
  },
  {
   "attachments": {},
   "cell_type": "markdown",
   "metadata": {},
   "source": [
    "## ADB MRIO 62 economies"
   ]
  },
  {
   "cell_type": "code",
   "execution_count": 54,
   "metadata": {},
   "outputs": [
    {
     "name": "stdout",
     "output_type": "stream",
     "text": [
      "2008 done\n",
      "2009 done\n",
      "2011 done\n",
      "2018 done\n",
      "2016 done\n",
      "2019 done\n",
      "2010 done\n",
      "2012 done\n",
      "2015 done\n",
      "2014 done\n",
      "2013 done\n",
      "2017 done\n",
      "2007 done\n",
      "2021 done\n",
      "2020 done\n",
      "2000 done\n"
     ]
    }
   ],
   "source": [
    "folder = 'ADB MRIO, 62 economies'\n",
    "load_and_save(inputfolder=folder, outputfolder='ADB-MRIO62', outputfile='ADB-MRIO62')"
   ]
  },
  {
   "attachments": {},
   "cell_type": "markdown",
   "metadata": {},
   "source": [
    "## ADB MRIO 72 economies (version Jun 2023)"
   ]
  },
  {
   "cell_type": "code",
   "execution_count": 55,
   "metadata": {},
   "outputs": [
    {
     "name": "stdout",
     "output_type": "stream",
     "text": [
      "2021 done\n",
      "2022 done\n",
      "2020 done\n"
     ]
    }
   ],
   "source": [
    "folder = '9 MRIO 2020-2022 for upload (ao Jun 2023)'\n",
    "load_and_save(inputfolder=folder, outputfolder='ADB-MRIO_jun2023', outputfile='ADB-MRIO', outputsuffix='_jun2023')"
   ]
  }
 ],
 "metadata": {
  "kernelspec": {
   "display_name": "adb",
   "language": "python",
   "name": "python3"
  },
  "language_info": {
   "codemirror_mode": {
    "name": "ipython",
    "version": 3
   },
   "file_extension": ".py",
   "mimetype": "text/x-python",
   "name": "python",
   "nbconvert_exporter": "python",
   "pygments_lexer": "ipython3",
   "version": "3.11.2"
  },
  "orig_nbformat": 4
 },
 "nbformat": 4,
 "nbformat_minor": 2
}
