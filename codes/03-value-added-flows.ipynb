{
 "cells": [
  {
   "cell_type": "markdown",
   "metadata": {},
   "source": [
    "# Value added flows\n",
    "\n",
    "This notebook computes the value added originating from one country or country-sector that is absorbed by another country or country-sector. These flows are obtained from the VBY matrix.\n",
    "\n",
    "Before running this notebook, select the MRIO version to load from `data/mrio/` as well as the corresponding output filename to be saved in `data/`."
   ]
  },
  {
   "cell_type": "markdown",
   "metadata": {},
   "source": [
    "## Set up"
   ]
  },
  {
   "cell_type": "code",
   "execution_count": 1,
   "metadata": {},
   "outputs": [],
   "source": [
    "import numpy as np\n",
    "import pandas as pd\n",
    "import duckdb\n",
    "from functions import asvector"
   ]
  },
  {
   "cell_type": "markdown",
   "metadata": {},
   "source": [
    "### Select MRIO version"
   ]
  },
  {
   "cell_type": "code",
   "execution_count": 2,
   "metadata": {},
   "outputs": [],
   "source": [
    "input, output = 'adb-mrio.parquet', 'flows.parquet'\n",
    "# input, output = 'adb-mrio62.parquet', 'flows62.parquet'\n",
    "# input, output = 'adb-mrio62-const.parquet', 'flows62-const.parquet'"
   ]
  },
  {
   "cell_type": "markdown",
   "metadata": {},
   "source": [
    "### Parameters"
   ]
  },
  {
   "cell_type": "code",
   "execution_count": 3,
   "metadata": {},
   "outputs": [
    {
     "data": {
      "text/plain": [
       "{'divide': 'warn', 'over': 'warn', 'under': 'ignore', 'invalid': 'warn'}"
      ]
     },
     "execution_count": 3,
     "metadata": {},
     "output_type": "execute_result"
    }
   ],
   "source": [
    "sectors = pd.read_excel('../dicts/sectors.xlsx').drop_duplicates(subset='ind', ignore_index=True)\n",
    "years = duckdb.sql(f\"SELECT DISTINCT t FROM read_parquet('../data/mrio/{input}') ORDER BY t\").df()['t']\n",
    "rows = duckdb.sql(f\"SELECT COUNT(*) FROM read_parquet('../data/mrio/{input}')\").df()\n",
    "\n",
    "N = 35                                              # Number of sectors\n",
    "G = int((rows.iloc[0, 0] / len(years) - 7) / N)     # Number of countries + 1\n",
    "f = 5                                               # Number of final demand components\n",
    "\n",
    "np.seterr(divide='ignore', invalid='ignore')"
   ]
  },
  {
   "cell_type": "markdown",
   "metadata": {},
   "source": [
    "## Compute flows"
   ]
  },
  {
   "cell_type": "code",
   "execution_count": 4,
   "metadata": {},
   "outputs": [
    {
     "name": "stdout",
     "output_type": "stream",
     "text": [
      "2017 done\n",
      "2018 done\n",
      "2019 done\n",
      "2020 done\n",
      "2021 done\n",
      "2022 done\n"
     ]
    }
   ],
   "source": [
    "flows = pd.DataFrame()\n",
    "\n",
    "for year in years:\n",
    "    \n",
    "    mrio = duckdb.sql(f\"SELECT * EXCLUDE(t, si) FROM read_parquet('../data/mrio/{input}') WHERE t={year}\").df()\n",
    "    mrio = mrio.values\n",
    "\n",
    "    x = mrio[-1][:(G*N)]\n",
    "    Z = mrio[:(G*N)][:, :(G*N)]\n",
    "    va = np.sum(mrio[-7:-1][:, :(G*N)], axis=0)\n",
    "    v = np.where(x != 0, va/x, 0)\n",
    "    A = Z @ np.diag(np.where(x != 0, 1/x, 0))\n",
    "    B = np.linalg.inv(np.eye(G*N) - A)\n",
    "    Y_big = mrio[:(G*N)][:, (G*N):-1]\n",
    "    Y = Y_big @ np.kron(np.eye(G), np.ones((f, 1)))\n",
    "    VBY = np.diag(v) @ B @ Y\n",
    "\n",
    "    flows_t = pd.DataFrame({\n",
    "        't': int(year),\n",
    "        's': np.tile(np.arange(1, G+1).repeat(N), G),\n",
    "        'r': np.arange(1, G+1).repeat(G*N),\n",
    "        'i': np.tile(sectors['ind'], G*G),\n",
    "        'i5': np.tile(sectors['ind5'], G*G),\n",
    "        'i15': np.tile(sectors['ind15'], G*G),\n",
    "        'flows': asvector(VBY)\n",
    "    })\n",
    "    flows = pd.concat([flows, flows_t], ignore_index=True)\n",
    "\n",
    "    print(f'{year} done')\n",
    "\n",
    "flows.sort_values(['t', 's', 'r', 'i'], inplace=True)\n",
    "flows.to_parquet(f'../data/{output}', index=False)"
   ]
  },
  {
   "cell_type": "markdown",
   "metadata": {},
   "source": [
    "### View results"
   ]
  },
  {
   "cell_type": "code",
   "execution_count": 5,
   "metadata": {},
   "outputs": [
    {
     "data": {
      "text/html": [
       "<div>\n",
       "<style scoped>\n",
       "    .dataframe tbody tr th:only-of-type {\n",
       "        vertical-align: middle;\n",
       "    }\n",
       "\n",
       "    .dataframe tbody tr th {\n",
       "        vertical-align: top;\n",
       "    }\n",
       "\n",
       "    .dataframe thead th {\n",
       "        text-align: right;\n",
       "    }\n",
       "</style>\n",
       "<table border=\"1\" class=\"dataframe\">\n",
       "  <thead>\n",
       "    <tr style=\"text-align: right;\">\n",
       "      <th></th>\n",
       "      <th>t</th>\n",
       "      <th>s</th>\n",
       "      <th>r</th>\n",
       "      <th>i</th>\n",
       "      <th>i5</th>\n",
       "      <th>i15</th>\n",
       "      <th>flows</th>\n",
       "    </tr>\n",
       "  </thead>\n",
       "  <tbody>\n",
       "    <tr>\n",
       "      <th>0</th>\n",
       "      <td>2017</td>\n",
       "      <td>1</td>\n",
       "      <td>1</td>\n",
       "      <td>1</td>\n",
       "      <td>1</td>\n",
       "      <td>1</td>\n",
       "      <td>24580.928164</td>\n",
       "    </tr>\n",
       "    <tr>\n",
       "      <th>1</th>\n",
       "      <td>2017</td>\n",
       "      <td>1</td>\n",
       "      <td>1</td>\n",
       "      <td>2</td>\n",
       "      <td>1</td>\n",
       "      <td>2</td>\n",
       "      <td>17033.117412</td>\n",
       "    </tr>\n",
       "    <tr>\n",
       "      <th>2</th>\n",
       "      <td>2017</td>\n",
       "      <td>1</td>\n",
       "      <td>1</td>\n",
       "      <td>3</td>\n",
       "      <td>2</td>\n",
       "      <td>3</td>\n",
       "      <td>14724.957952</td>\n",
       "    </tr>\n",
       "    <tr>\n",
       "      <th>3</th>\n",
       "      <td>2017</td>\n",
       "      <td>1</td>\n",
       "      <td>1</td>\n",
       "      <td>4</td>\n",
       "      <td>2</td>\n",
       "      <td>3</td>\n",
       "      <td>1059.935367</td>\n",
       "    </tr>\n",
       "    <tr>\n",
       "      <th>4</th>\n",
       "      <td>2017</td>\n",
       "      <td>1</td>\n",
       "      <td>1</td>\n",
       "      <td>5</td>\n",
       "      <td>2</td>\n",
       "      <td>3</td>\n",
       "      <td>142.991659</td>\n",
       "    </tr>\n",
       "    <tr>\n",
       "      <th>...</th>\n",
       "      <td>...</td>\n",
       "      <td>...</td>\n",
       "      <td>...</td>\n",
       "      <td>...</td>\n",
       "      <td>...</td>\n",
       "      <td>...</td>\n",
       "      <td>...</td>\n",
       "    </tr>\n",
       "    <tr>\n",
       "      <th>1119085</th>\n",
       "      <td>2022</td>\n",
       "      <td>73</td>\n",
       "      <td>73</td>\n",
       "      <td>31</td>\n",
       "      <td>5</td>\n",
       "      <td>13</td>\n",
       "      <td>336582.229471</td>\n",
       "    </tr>\n",
       "    <tr>\n",
       "      <th>1119086</th>\n",
       "      <td>2022</td>\n",
       "      <td>73</td>\n",
       "      <td>73</td>\n",
       "      <td>32</td>\n",
       "      <td>5</td>\n",
       "      <td>14</td>\n",
       "      <td>245745.094921</td>\n",
       "    </tr>\n",
       "    <tr>\n",
       "      <th>1119087</th>\n",
       "      <td>2022</td>\n",
       "      <td>73</td>\n",
       "      <td>73</td>\n",
       "      <td>33</td>\n",
       "      <td>5</td>\n",
       "      <td>14</td>\n",
       "      <td>154924.793812</td>\n",
       "    </tr>\n",
       "    <tr>\n",
       "      <th>1119088</th>\n",
       "      <td>2022</td>\n",
       "      <td>73</td>\n",
       "      <td>73</td>\n",
       "      <td>34</td>\n",
       "      <td>5</td>\n",
       "      <td>15</td>\n",
       "      <td>129306.912080</td>\n",
       "    </tr>\n",
       "    <tr>\n",
       "      <th>1119089</th>\n",
       "      <td>2022</td>\n",
       "      <td>73</td>\n",
       "      <td>73</td>\n",
       "      <td>35</td>\n",
       "      <td>5</td>\n",
       "      <td>15</td>\n",
       "      <td>14888.072034</td>\n",
       "    </tr>\n",
       "  </tbody>\n",
       "</table>\n",
       "<p>1119090 rows × 7 columns</p>\n",
       "</div>"
      ],
      "text/plain": [
       "            t   s   r   i  i5  i15          flows\n",
       "0        2017   1   1   1   1    1   24580.928164\n",
       "1        2017   1   1   2   1    2   17033.117412\n",
       "2        2017   1   1   3   2    3   14724.957952\n",
       "3        2017   1   1   4   2    3    1059.935367\n",
       "4        2017   1   1   5   2    3     142.991659\n",
       "...       ...  ..  ..  ..  ..  ...            ...\n",
       "1119085  2022  73  73  31   5   13  336582.229471\n",
       "1119086  2022  73  73  32   5   14  245745.094921\n",
       "1119087  2022  73  73  33   5   14  154924.793812\n",
       "1119088  2022  73  73  34   5   15  129306.912080\n",
       "1119089  2022  73  73  35   5   15   14888.072034\n",
       "\n",
       "[1119090 rows x 7 columns]"
      ]
     },
     "execution_count": 5,
     "metadata": {},
     "output_type": "execute_result"
    }
   ],
   "source": [
    "duckdb.sql(f\"SELECT * FROM read_parquet('../data/{output}')\").df()"
   ]
  }
 ],
 "metadata": {
  "kernelspec": {
   "display_name": "adb",
   "language": "python",
   "name": "python3"
  },
  "language_info": {
   "codemirror_mode": {
    "name": "ipython",
    "version": 3
   },
   "file_extension": ".py",
   "mimetype": "text/x-python",
   "name": "python",
   "nbconvert_exporter": "python",
   "pygments_lexer": "ipython3",
   "version": "3.11.2"
  },
  "orig_nbformat": 4
 },
 "nbformat": 4,
 "nbformat_minor": 2
}
