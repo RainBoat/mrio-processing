{
 "cells": [
  {
   "cell_type": "markdown",
   "metadata": {},
   "source": [
    "## FVA origins\n",
    "\n",
    "The `FVA` term is the amount of $s$'s exports to $r$ whose value added originated outside of $s$. Alternatively, one might wish to calculate the actual origins of such value added. The following decomposition does just that: it breaks down $s$'s `FVA` exports into its value added origins, indexed by $u$."
   ]
  },
  {
   "cell_type": "code",
   "execution_count": null,
   "metadata": {},
   "outputs": [],
   "source": [
    "import numpy as np\n",
    "import pandas as pd\n",
    "import duckdb\n",
    "from functions import subset, asvector, zeroout, diagvec, diagmat, diagrow"
   ]
  },
  {
   "cell_type": "code",
   "execution_count": null,
   "metadata": {},
   "outputs": [],
   "source": [
    "input = 'adb-mrio.parquet'\n",
    "output = 'ta-fva.parquet'\n",
    "\n",
    "# input = 'adb-mrio62.parquet'\n",
    "# output = 'ta62-fva.parquet'\n",
    "\n",
    "G = 73      # Number of countries + ROW\n",
    "# G = 63      \n",
    "N = 35      # Number of sectors\n",
    "f = 5       # Number of final demand components\n",
    "\n",
    "np.seterr(divide='ignore', invalid='ignore')"
   ]
  },
  {
   "cell_type": "code",
   "execution_count": null,
   "metadata": {},
   "outputs": [],
   "source": [
    "DF = pd.DataFrame()\n",
    "\n",
    "for year in years:\n",
    "    \n",
    "    mrio = duckdb.sql(f\"SELECT * EXCLUDE(t, si) FROM read_parquet('../data/mrio/{input}') WHERE t={year}\").df()\n",
    "    mrio = mrio.values\n",
    "\n",
    "    x = mrio[-1][:(G*N)]\n",
    "    Z = mrio[:(G*N)][:, :(G*N)]\n",
    "    va = np.sum(mrio[-7:-1][:, :(G*N)], axis=0)\n",
    "    Y_big = mrio[:(G*N)][:, (G*N):-1]\n",
    "    Y = Y_big @ np.kron(np.eye(G), np.ones((f, 1)))\n",
    "    v = np.where(x != 0, va/x, 0)\n",
    "    Dx = np.diag(np.where(x != 0, 1/x, 0))\n",
    "    A = Z @ Dx\n",
    "    E = zeroout(Z @ np.kron(np.eye(G), np.ones((N, 1))) + Y)\n",
    "\n",
    "    for s in range(1, G+1):\n",
    "\n",
    "        Bnots = np.linalg.inv(np.eye(G*N) - zeroout(A, s, -s))\n",
    "        VB_FC = subset(v, -s) @ subset(Bnots, -s, s)\n",
    "        FVA = VB_FC @ subset(E, s, -s)\n",
    "        FVAorigin = np.transpose(diagvec(subset(v, -s))) @ subset(Bnots, -s, s) @ np.sum(subset(E, s, -s), axis=1)\n",
    "        \n",
    "        DFs = pd.DataFrame({\n",
    "            't': year,\n",
    "            'u': np.setdiff1d(np.arange(1, G+1), s),\n",
    "            's': s,\n",
    "            'FVA': np.sum(FVA),\n",
    "            'FVAorigin': FVAorigin,\n",
    "        })\n",
    "        DF = pd.concat([DF, DFs], ignore_index=True)\n",
    "\n",
    "    print(f'{year} done')\n",
    "\n",
    "DF.to_parquet(f'../data/adhoc/{output}', index=False)"
   ]
  }
 ],
 "metadata": {
  "language_info": {
   "name": "python"
  },
  "orig_nbformat": 4
 },
 "nbformat": 4,
 "nbformat_minor": 2
}
