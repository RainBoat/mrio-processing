{
 "cells": [
  {
   "attachments": {},
   "cell_type": "markdown",
   "metadata": {},
   "source": [
    "# GVC participation rate"
   ]
  },
  {
   "cell_type": "code",
   "execution_count": 42,
   "metadata": {},
   "outputs": [],
   "source": [
    "import numpy as np\n",
    "import pandas as pd\n",
    "import duckdb"
   ]
  },
  {
   "attachments": {},
   "cell_type": "markdown",
   "metadata": {},
   "source": [
    "## By export sectors"
   ]
  },
  {
   "cell_type": "code",
   "execution_count": 47,
   "metadata": {},
   "outputs": [],
   "source": [
    "file = 'ta72-os.parquet'\n",
    "outputfile = 'gvcp.csv'"
   ]
  },
  {
   "cell_type": "code",
   "execution_count": 49,
   "metadata": {},
   "outputs": [],
   "source": [
    "df = duckdb.sql(\n",
    "    f\"\"\"\n",
    "    (SELECT t, s, 5 AS agg, i5 AS i, \n",
    "        SUM(Exports) AS Exports, \n",
    "        SUM(DAVAX1) AS DAVAX1,\n",
    "        SUM(DAVAX2) AS DAVAX2,\n",
    "        SUM(REX1) AS REX1,\n",
    "        SUM(REX2) AS REX2,\n",
    "        SUM(REX3) AS REX3,\n",
    "        SUM(REF1) AS REF1,\n",
    "        SUM(REF2) AS REF2,\n",
    "        SUM(FVA) AS FVA,\n",
    "        SUM(PDC1) AS PDC1,\n",
    "        SUM(PDC2) AS PDC2\n",
    "    FROM read_parquet('../data/interim/trade-accounting/{file}')\n",
    "    GROUP BY t, s, i5\n",
    "    ORDER BY t, s, i5)\n",
    "\n",
    "    UNION ALL\n",
    "    \n",
    "    (SELECT t, s, 15 AS agg, i15 AS i, \n",
    "        SUM(Exports) AS Exports, \n",
    "        SUM(DAVAX1) AS DAVAX1,\n",
    "        SUM(DAVAX2) AS DAVAX2,\n",
    "        SUM(REX1) AS REX1,\n",
    "        SUM(REX2) AS REX2,\n",
    "        SUM(REX3) AS REX3,\n",
    "        SUM(REF1) AS REF1,\n",
    "        SUM(REF2) AS REF2,\n",
    "        SUM(FVA) AS FVA,\n",
    "        SUM(PDC1) AS PDC1,\n",
    "        SUM(PDC2) AS PDC2\n",
    "    FROM read_parquet('../data/interim/trade-accounting/{file}')\n",
    "    GROUP BY t, s, i15\n",
    "    ORDER BY t, s, i15)\n",
    "    \n",
    "    UNION ALL\n",
    "    \n",
    "    (SELECT t, s, 35 AS agg, i, \n",
    "        SUM(Exports) AS Exports, \n",
    "        SUM(DAVAX1) AS DAVAX1,\n",
    "        SUM(DAVAX2) AS DAVAX2,\n",
    "        SUM(REX1) AS REX1,\n",
    "        SUM(REX2) AS REX2,\n",
    "        SUM(REX3) AS REX3,\n",
    "        SUM(REF1) AS REF1,\n",
    "        SUM(REF2) AS REF2,\n",
    "        SUM(FVA) AS FVA,\n",
    "        SUM(PDC1) AS PDC1,\n",
    "        SUM(PDC2) AS PDC2\n",
    "    FROM read_parquet('../data/interim/trade-accounting/{file}')\n",
    "    GROUP BY t, s, i\n",
    "    ORDER BY t, s, i)\n",
    "    \"\"\"\n",
    ").df()"
   ]
  },
  {
   "cell_type": "code",
   "execution_count": 45,
   "metadata": {},
   "outputs": [],
   "source": [
    "df['GVCf'] = df['REX1'] + df['REX2'] + df['REX3'] + df['REF1'] + df['REF2']\n",
    "df['GVCb'] = df['FVA'] + df['PDC1'] + df['PDC2']\n",
    "df['GVC'] = df['GVCf'] + df['GVCb']\n",
    "\n",
    "df['GVCP_trade_f'] = df['GVCf'] / df['Exports']\n",
    "df['GVCP_trade_b'] = df['GVCb'] / df['Exports']\n",
    "df['GVCP_trade'] = df['GVC'] / df['Exports']\n",
    "\n",
    "df = df[['t', 's', 'agg', 'i', 'Exports', 'GVCf', 'GVCb', 'GVC', 'GVCP_trade_f', 'GVCP_trade_b', 'GVCP_trade']]"
   ]
  },
  {
   "cell_type": "code",
   "execution_count": 46,
   "metadata": {},
   "outputs": [],
   "source": [
    "df.to_csv(f'../data/final/{outputfile}', index=False)"
   ]
  },
  {
   "cell_type": "code",
   "execution_count": null,
   "metadata": {},
   "outputs": [],
   "source": []
  }
 ],
 "metadata": {
  "kernelspec": {
   "display_name": "adb",
   "language": "python",
   "name": "python3"
  },
  "language_info": {
   "codemirror_mode": {
    "name": "ipython",
    "version": 3
   },
   "file_extension": ".py",
   "mimetype": "text/x-python",
   "name": "python",
   "nbconvert_exporter": "python",
   "pygments_lexer": "ipython3",
   "version": "3.11.2"
  },
  "orig_nbformat": 4
 },
 "nbformat": 4,
 "nbformat_minor": 2
}
