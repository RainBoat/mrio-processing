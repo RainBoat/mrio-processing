{
 "cells": [
  {
   "attachments": {},
   "cell_type": "markdown",
   "metadata": {},
   "source": [
    "# Summary table\n",
    "\n",
    "This notebook tabulates key aggregates for each country-sector, namely: total output, intermediate use, value added, intermediate sales, final sales, and exports."
   ]
  },
  {
   "cell_type": "code",
   "execution_count": 42,
   "metadata": {},
   "outputs": [],
   "source": [
    "import numpy as np\n",
    "import pandas as pd\n",
    "import os\n",
    "import re\n",
    "import duckdb"
   ]
  },
  {
   "attachments": {},
   "cell_type": "markdown",
   "metadata": {},
   "source": [
    "## Set up"
   ]
  },
  {
   "cell_type": "code",
   "execution_count": 43,
   "metadata": {},
   "outputs": [],
   "source": [
    "inputfolder = 'ADB-MRIO'\n",
    "version = None\n",
    "# inputfolder = 'ADB-MRIO_jun2023'\n",
    "# version = 'jun2023'\n",
    "\n",
    "filelist = [file for file in os.listdir(f'../data/interim/{inputfolder}') if not file.startswith('.')]\n",
    "filelist.sort()"
   ]
  },
  {
   "cell_type": "code",
   "execution_count": 44,
   "metadata": {},
   "outputs": [
    {
     "data": {
      "text/plain": [
       "{'divide': 'ignore', 'over': 'warn', 'under': 'ignore', 'invalid': 'ignore'}"
      ]
     },
     "execution_count": 44,
     "metadata": {},
     "output_type": "execute_result"
    }
   ],
   "source": [
    "sectors = pd.read_excel('../data/interim/sectors.xlsx')\n",
    "sectors = sectors.drop_duplicates(subset='ind', ignore_index=True)\n",
    "\n",
    "G = 73      # Number of countries + ROW\n",
    "N = 35      # Number of sectors\n",
    "f = 5       # Number of final demand components\n",
    "\n",
    "np.seterr(divide='ignore', invalid='ignore')"
   ]
  },
  {
   "cell_type": "code",
   "execution_count": 45,
   "metadata": {},
   "outputs": [],
   "source": [
    "def zeroout(matrix, row=None, col=None, inverse=False, G=G):\n",
    "    '''\n",
    "    Zeroes out the NxN block diagonals of a GNxGN matrix. If inverse=True, all elements but the NxN block\n",
    "    diagonals are zeroed out. An arbitrary NxN block can be zeroed out by passing ind() in the row and col \n",
    "    arguments. \n",
    "    '''\n",
    "    Nrow = matrix.shape[0] // G\n",
    "    Ncol = matrix.shape[1] // G\n",
    "    zeroed_matrix = np.copy(matrix)\n",
    "    \n",
    "    if row is not None and col is not None:\n",
    "        zeroed_matrix[np.ix_(row, col)] = 0\n",
    "    else:\n",
    "        for k in range(G):\n",
    "            zeroed_matrix[(k*Nrow):(k*Nrow)+Nrow, (k*Ncol):(k*Ncol)+Ncol] = 0\n",
    "    \n",
    "    if inverse:\n",
    "        return matrix - zeroed_matrix\n",
    "    else:\n",
    "        return zeroed_matrix"
   ]
  },
  {
   "attachments": {},
   "cell_type": "markdown",
   "metadata": {},
   "source": [
    "## Compile table"
   ]
  },
  {
   "cell_type": "code",
   "execution_count": 46,
   "metadata": {},
   "outputs": [
    {
     "name": "stdout",
     "output_type": "stream",
     "text": [
      "2017 done\n",
      "2018 done\n",
      "2019 done\n",
      "2020 done\n",
      "2021 done\n"
     ]
    }
   ],
   "source": [
    "DF = pd.DataFrame()\n",
    "\n",
    "for file in filelist:\n",
    "    \n",
    "    year = re.search('[0-9]{4}', file).group()\n",
    "\n",
    "    mrio = duckdb.sql(\n",
    "        f\"\"\"\n",
    "        SELECT * EXCLUDE(C0)\n",
    "        FROM read_parquet('../data/interim/{inputfolder}/{file}')\n",
    "        \"\"\"\n",
    "    ).df()\n",
    "    mrio = mrio.values\n",
    "\n",
    "    x = mrio[-1][:(G*N)]\n",
    "    Z = mrio[:(G*N)][:, :(G*N)]\n",
    "    zuse = np.sum(Z, axis=0)\n",
    "    zsales = np.sum(Z, axis=1)\n",
    "    va = np.sum(mrio[-7:-1][:, :(G*N)], axis=0)\n",
    "    Y_big = mrio[:(G*N)][:, (G*N):-1]\n",
    "    Y = Y_big @ np.kron(np.eye(G), np.ones((f, 1)))\n",
    "    Zd = zeroout(Z @ np.kron(np.eye(G), np.ones((N, 1))), inverse=True)\n",
    "    Yd = zeroout(Y, inverse=True)\n",
    "    y = np.sum(Y, axis=1)\n",
    "    ez = np.sum(Zd, axis=1)\n",
    "    ey = np.sum(Yd, axis=1)\n",
    "\n",
    "    DFi = pd.DataFrame({\n",
    "        't': year,\n",
    "        's': np.arange(1, G+1).repeat(N),\n",
    "        'i': np.tile(sectors['ind'], G),\n",
    "        'i5': np.tile(sectors['ind5'], G),\n",
    "        'i15': np.tile(sectors['ind15'], G),\n",
    "        'x': x,\n",
    "        'zuse': zuse,\n",
    "        'va': va,\n",
    "        'zsales': zsales,\n",
    "        'y': y,\n",
    "        'e': ez + ey,\n",
    "        'ez': ez,\n",
    "        'ey': ey\n",
    "    })\n",
    "    DF = pd.concat([DF, DFi], ignore_index=True)\n",
    "\n",
    "    print(f'{year} done')\n",
    "\n",
    "if version is None:\n",
    "    outputfilename = 'summary.csv'\n",
    "else:\n",
    "    outputfilename = f'summary_{version}.csv'\n",
    "\n",
    "DF.to_csv(f'../data/final/{outputfilename}', index=False)"
   ]
  }
 ],
 "metadata": {
  "kernelspec": {
   "display_name": "adb",
   "language": "python",
   "name": "python3"
  },
  "language_info": {
   "codemirror_mode": {
    "name": "ipython",
    "version": 3
   },
   "file_extension": ".py",
   "mimetype": "text/x-python",
   "name": "python",
   "nbconvert_exporter": "python",
   "pygments_lexer": "ipython3",
   "version": "3.11.2"
  },
  "orig_nbformat": 4
 },
 "nbformat": 4,
 "nbformat_minor": 2
}
