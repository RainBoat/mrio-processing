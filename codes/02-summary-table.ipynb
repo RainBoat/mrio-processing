{
 "cells": [
  {
   "attachments": {},
   "cell_type": "markdown",
   "metadata": {},
   "source": [
    "# Summary table\n",
    "\n",
    "This notebook tabulates key aggregates for each country and country-sector, namely: \n",
    "\n",
    "- `x`: total output\n",
    "- `zuse`: intermediate use\n",
    "- `va`: value added\n",
    "- `zsales`: intermediate sales\n",
    "- `y`: final sales\n",
    "- `ez`: exports of intermediates\n",
    "- `ey`: exports of final goods\n",
    "- `e`: total exports\n",
    "\n",
    "Results are saved as `summary.csv` in `data/final/`."
   ]
  },
  {
   "cell_type": "code",
   "execution_count": 1,
   "metadata": {},
   "outputs": [],
   "source": [
    "import numpy as np\n",
    "import pandas as pd\n",
    "import os\n",
    "import re\n",
    "import duckdb\n",
    "from functions import zeroout"
   ]
  },
  {
   "attachments": {},
   "cell_type": "markdown",
   "metadata": {},
   "source": [
    "## Set up"
   ]
  },
  {
   "cell_type": "code",
   "execution_count": 2,
   "metadata": {},
   "outputs": [],
   "source": [
    "inputfolder = 'ADB-MRIO'\n",
    "version = None\n",
    "# inputfolder = 'ADB-MRIO_jun2023'\n",
    "# version = 'jun2023'\n",
    "\n",
    "filelist = [file for file in os.listdir(f'../data/interim/{inputfolder}') if not file.startswith('.')]\n",
    "filelist.sort()"
   ]
  },
  {
   "cell_type": "code",
   "execution_count": 3,
   "metadata": {},
   "outputs": [
    {
     "data": {
      "text/plain": [
       "{'divide': 'warn', 'over': 'warn', 'under': 'ignore', 'invalid': 'warn'}"
      ]
     },
     "execution_count": 3,
     "metadata": {},
     "output_type": "execute_result"
    }
   ],
   "source": [
    "sectors = pd.read_excel('../data/interim/sectors.xlsx')\n",
    "sectors = sectors.drop_duplicates(subset='ind', ignore_index=True)\n",
    "\n",
    "G = 73      # Number of countries + ROW\n",
    "N = 35      # Number of sectors\n",
    "f = 5       # Number of final demand components\n",
    "\n",
    "np.seterr(divide='ignore', invalid='ignore')"
   ]
  },
  {
   "attachments": {},
   "cell_type": "markdown",
   "metadata": {},
   "source": [
    "## Compile table"
   ]
  },
  {
   "cell_type": "code",
   "execution_count": 5,
   "metadata": {},
   "outputs": [
    {
     "name": "stdout",
     "output_type": "stream",
     "text": [
      "2017 done\n",
      "2018 done\n",
      "2019 done\n",
      "2020 done\n",
      "2021 done\n"
     ]
    }
   ],
   "source": [
    "DF = pd.DataFrame()\n",
    "\n",
    "for file in filelist:\n",
    "    \n",
    "    year = re.search('[0-9]{4}', file).group()\n",
    "\n",
    "    mrio = duckdb.sql(\n",
    "        f\"\"\"\n",
    "        SELECT * EXCLUDE(C0)\n",
    "        FROM read_parquet('../data/interim/{inputfolder}/{file}')\n",
    "        \"\"\"\n",
    "    ).df()\n",
    "    mrio = mrio.values\n",
    "\n",
    "    x = mrio[-1][:(G*N)]\n",
    "    Z = mrio[:(G*N)][:, :(G*N)]\n",
    "    zuse = np.sum(Z, axis=0)\n",
    "    zsales = np.sum(Z, axis=1)\n",
    "    va = np.sum(mrio[-7:-1][:, :(G*N)], axis=0)\n",
    "    Y_big = mrio[:(G*N)][:, (G*N):-1]\n",
    "    Y = Y_big @ np.kron(np.eye(G), np.ones((f, 1)))\n",
    "    Zd = zeroout(Z @ np.kron(np.eye(G), np.ones((N, 1))), inverse=True)\n",
    "    Yd = zeroout(Y, inverse=True)\n",
    "    y = np.sum(Y, axis=1)\n",
    "    ez = np.sum(Zd, axis=1)\n",
    "    ey = np.sum(Yd, axis=1)\n",
    "\n",
    "    DFi = pd.DataFrame({\n",
    "        't': year,\n",
    "        's': np.arange(1, G+1).repeat(N),\n",
    "        'i': np.tile(sectors['ind'], G),\n",
    "        'i5': np.tile(sectors['ind5'], G),\n",
    "        'i15': np.tile(sectors['ind15'], G),\n",
    "        'x': x,\n",
    "        'zuse': zuse,\n",
    "        'va': va,\n",
    "        'zsales': zsales,\n",
    "        'y': y,\n",
    "        'e': ez + ey,\n",
    "        'ez': ez,\n",
    "        'ey': ey\n",
    "    })\n",
    "    DF = pd.concat([DF, DFi], ignore_index=True)\n",
    "\n",
    "    print(f'{year} done')\n",
    "\n",
    "if version is None:\n",
    "    outputfilename = 'summary.csv'\n",
    "else:\n",
    "    outputfilename = f'summary_{version}.csv'\n",
    "\n",
    "DF.to_csv(f'../data/final/{outputfilename}', index=False)"
   ]
  }
 ],
 "metadata": {
  "kernelspec": {
   "display_name": "adb",
   "language": "python",
   "name": "python3"
  },
  "language_info": {
   "codemirror_mode": {
    "name": "ipython",
    "version": 3
   },
   "file_extension": ".py",
   "mimetype": "text/x-python",
   "name": "python",
   "nbconvert_exporter": "python",
   "pygments_lexer": "ipython3",
   "version": "3.11.2"
  },
  "orig_nbformat": 4
 },
 "nbformat": 4,
 "nbformat_minor": 2
}
