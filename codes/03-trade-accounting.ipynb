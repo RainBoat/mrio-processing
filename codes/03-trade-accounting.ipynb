{
 "cells": [
  {
   "attachments": {},
   "cell_type": "markdown",
   "metadata": {},
   "source": [
    "# Trade accounting"
   ]
  },
  {
   "cell_type": "code",
   "execution_count": 7,
   "metadata": {},
   "outputs": [],
   "source": [
    "import numpy as np\n",
    "import pandas as pd\n",
    "import os\n",
    "import re\n",
    "import duckdb"
   ]
  },
  {
   "cell_type": "code",
   "execution_count": 8,
   "metadata": {},
   "outputs": [],
   "source": [
    "inputfolder = 'ADB-MRIO'\n",
    "outputfileroot = 'ta'\n",
    "version = None\n",
    "\n",
    "filelist = [file for file in os.listdir(f'../data/interim/{inputfolder}') if not file.startswith('.')]\n",
    "filelist.sort()"
   ]
  },
  {
   "attachments": {},
   "cell_type": "markdown",
   "metadata": {},
   "source": [
    "## Setup"
   ]
  },
  {
   "attachments": {},
   "cell_type": "markdown",
   "metadata": {},
   "source": [
    "### Parameters"
   ]
  },
  {
   "cell_type": "code",
   "execution_count": 9,
   "metadata": {},
   "outputs": [
    {
     "data": {
      "text/plain": [
       "{'divide': 'ignore', 'over': 'warn', 'under': 'ignore', 'invalid': 'ignore'}"
      ]
     },
     "execution_count": 9,
     "metadata": {},
     "output_type": "execute_result"
    }
   ],
   "source": [
    "sectors = pd.read_excel('../data/interim/sectors.xlsx')\n",
    "sectors = sectors.drop_duplicates(subset='ind', ignore_index=True)\n",
    "\n",
    "G = 73      # Number of countries + ROW\n",
    "N = 35      # Number of sectors\n",
    "f = 5       # Number of final demand components\n",
    "\n",
    "np.seterr(divide='ignore', invalid='ignore')"
   ]
  },
  {
   "attachments": {},
   "cell_type": "markdown",
   "metadata": {},
   "source": [
    "### Helper functions"
   ]
  },
  {
   "cell_type": "code",
   "execution_count": 10,
   "metadata": {},
   "outputs": [],
   "source": [
    "def ind(s, i=None, G=G, N=N):\n",
    "    '''\n",
    "    Selects the indices of country s in any GxN array. If inverse=True, selects all indices but country s.\n",
    "    Optional argument i selects a specific element in the array.\n",
    "    '''\n",
    "    ind_s = list(range((abs(s) - 1) * N, abs(s) * N))\n",
    "    if s<0:\n",
    "        ind_s = np.setdiff1d(np.arange(G*N), ind_s)\n",
    "\n",
    "    if i is not None:\n",
    "        return ind_s[i]\n",
    "    else:\n",
    "        return ind_s"
   ]
  },
  {
   "cell_type": "code",
   "execution_count": 11,
   "metadata": {},
   "outputs": [],
   "source": [
    "def asvector(matrix):\n",
    "    ''' \n",
    "    Flattens a matrix into a column vector by taking the first column, then appending the second column,\n",
    "    and so on.\n",
    "    '''\n",
    "    vector = np.reshape(matrix, (-1, ), order='F')\n",
    "    return vector"
   ]
  },
  {
   "cell_type": "code",
   "execution_count": 12,
   "metadata": {},
   "outputs": [],
   "source": [
    "def zeroout(matrix, row=None, col=None, inverse=False, G=G):\n",
    "    '''\n",
    "    Zeroes out the NxN block diagonals of a GNxGN matrix. If inverse=True, all elements but the NxN block\n",
    "    diagonals are zeroed out. An arbitrary NxN block can be zeroed out by passing ind() in the row and col \n",
    "    arguments. \n",
    "    '''\n",
    "    Nrow = matrix.shape[0] // G\n",
    "    Ncol = matrix.shape[1] // G\n",
    "    zeroed_matrix = np.copy(matrix)\n",
    "    \n",
    "    if row is not None and col is not None:\n",
    "        zeroed_matrix[np.ix_(row, col)] = 0\n",
    "    else:\n",
    "        for k in range(G):\n",
    "            zeroed_matrix[(k*Nrow):(k*Nrow)+Nrow, (k*Ncol):(k*Ncol)+Ncol] = 0\n",
    "    \n",
    "    if inverse:\n",
    "        return matrix - zeroed_matrix\n",
    "    else:\n",
    "        return zeroed_matrix"
   ]
  },
  {
   "cell_type": "code",
   "execution_count": 13,
   "metadata": {},
   "outputs": [],
   "source": [
    "def diagvec(vector, N=N):\n",
    "    '''\n",
    "    Splits a vector into N-sized vectors and arranges them in a block diagonal matrix. \n",
    "    '''\n",
    "    length = vector.shape[0]\n",
    "    G = length // N\n",
    "    matrix = np.zeros((length, G))\n",
    "    for k in range(G):\n",
    "        matrix[k*N:(k+1)*N, k] = vector[k*N:(k+1)*N]\n",
    "    return matrix"
   ]
  },
  {
   "cell_type": "code",
   "execution_count": 14,
   "metadata": {},
   "outputs": [],
   "source": [
    "def diagmat(matrix, offd=False, N=N):\n",
    "    '''\n",
    "    Reshapes a matrix into an appropriate block diagonal matrix. \n",
    "    '''\n",
    "    nrow = matrix.shape[0]\n",
    "    G = nrow // N\n",
    "    \n",
    "    if offd:\n",
    "        for k in range(G):\n",
    "            matrix[k*N:(k+1)*N, k] = 0\n",
    "        vector = np.sum(matrix, axis=1)\n",
    "    else:\n",
    "        vector = []\n",
    "        for k in range(G):\n",
    "            vector.extend(matrix[k*N:(k+1)*N, k]) \n",
    "        vector = np.array(vector)\n",
    "    \n",
    "    return diagvec(vector)"
   ]
  },
  {
   "cell_type": "code",
   "execution_count": 15,
   "metadata": {},
   "outputs": [],
   "source": [
    "def diagrow(vector, N=N):\n",
    "    G = vector.shape[0] // N\n",
    "    matrix = np.empty((N,0))\n",
    "    for k in range(G):\n",
    "        matrix = np.hstack((matrix, np.diag(vector[k*N:(k+1)*N])))\n",
    "    return matrix"
   ]
  },
  {
   "attachments": {},
   "cell_type": "markdown",
   "metadata": {},
   "source": [
    "## Decompositions\n",
    "\n",
    "Note that the country index `s` used henceforth corresponds to the MRIO country indices, which start at 1 and not 0."
   ]
  },
  {
   "attachments": {},
   "cell_type": "markdown",
   "metadata": {},
   "source": [
    "### Country level"
   ]
  },
  {
   "cell_type": "code",
   "execution_count": 457,
   "metadata": {},
   "outputs": [
    {
     "name": "stdout",
     "output_type": "stream",
     "text": [
      "2017 done\n",
      "2018 done\n",
      "2019 done\n",
      "2020 done\n",
      "2021 done\n"
     ]
    }
   ],
   "source": [
    "DF = pd.DataFrame()\n",
    "\n",
    "for file in filelist:\n",
    "    \n",
    "    year = re.search('[0-9]{4}', file).group()\n",
    "\n",
    "    mrio = duckdb.sql(\n",
    "        f\"\"\"\n",
    "        SELECT * EXCLUDE(C0)\n",
    "        FROM read_parquet('../data/final/{inputfolder}/{file}')\n",
    "        \"\"\"\n",
    "    ).df()\n",
    "    mrio = mrio.values\n",
    "\n",
    "    x = mrio[-1][:(G*N)]\n",
    "    Z = mrio[:(G*N)][:, :(G*N)]\n",
    "    zuse = np.sum(Z, axis=0)\n",
    "    zsales = np.sum(Z, axis=1)\n",
    "    va = np.sum(mrio[-7:-1][:, :(G*N)], axis=0)\n",
    "    Y_big = mrio[:(G*N)][:, (G*N):-1]\n",
    "    Y = Y_big @ np.kron(np.eye(G), np.ones((f, 1)))\n",
    "    Yd = zeroout(Y, inverse=True)\n",
    "    Yf = zeroout(Y)\n",
    "    v = np.where(x != 0, va / x, 0)\n",
    "    Dx = np.diag(np.where(x != 0, 1 / x, 0))\n",
    "    A = Z @ Dx\n",
    "    Ad = zeroout(A, inverse=True)\n",
    "    Af = zeroout(A)\n",
    "    B = np.linalg.inv(np.eye(G*N) - A)\n",
    "    Bd = np.linalg.inv(np.eye(G*N) - Ad)\n",
    "    E = zeroout(Z @ np.kron(np.eye(G), np.ones((N, 1))) + Y)\n",
    "\n",
    "    for s in range(1, G+1):\n",
    "\n",
    "        Exports = np.sum(E[ind(s)][:, np.arange(G) != s-1], axis=0)\n",
    "        Bnots = np.linalg.inv(np.eye(G*N) - zeroout(A, row=ind(s), col=ind(-s)))\n",
    "        VB_DC = v[ind(s)] @ Bnots[np.ix_(ind(s), ind(s))]\n",
    "        VB_FC = v[ind(-s)] @ Bnots[np.ix_(ind(-s), ind(s))]\n",
    "        DAVAX1 = VB_DC @ Y[ind(s)][:, np.arange(G) != s-1]\n",
    "        DAVAX2 = VB_DC @ A[np.ix_(ind(s), ind(-s))] @ Bd[np.ix_(ind(-s), ind(-s))] @ Yd[ind(-s)][:, np.arange(G) != s-1]\n",
    "        REX1 = VB_DC @ A[np.ix_(ind(s), ind(-s))] @ Bd[np.ix_(ind(-s), ind(-s))] @ diagvec(np.sum(Yf[ind(-s)][:, np.arange(G) != s-1], axis=1))\n",
    "        REX2 = VB_DC @ A[np.ix_(ind(s), ind(-s))] @ Bd[np.ix_(ind(-s), ind(-s))] @ diagmat(Af[ind(-s), :] @ B @ Y[:, np.arange(G) != s-1], offd=True)\n",
    "        REX3 = VB_DC @ A[np.ix_(ind(s), ind(-s))] @ Bd[np.ix_(ind(-s), ind(-s))] @ diagmat(Af[ind(-s), :] @ B @ Y[:, np.arange(G) != s-1])\n",
    "        REF1 = VB_DC @ A[np.ix_(ind(s), ind(-s))] @ Bd[np.ix_(ind(-s), ind(-s))] @ diagvec(Yf[ind(-s)][:, s-1])\n",
    "        REF2 = VB_DC @ A[np.ix_(ind(s), ind(-s))] @ Bd[np.ix_(ind(-s), ind(-s))] @ diagvec(Af[ind(-s), :] @ B @ Y[:, s-1])\n",
    "        FVA = VB_FC @ E[ind(s)][:, np.arange(G) != s-1]\n",
    "        PDC1 = VB_DC @ Af[ind(s), :] @ B[:, ind(s)] @ E[ind(s)][:, np.arange(G) != s-1]\n",
    "        PDC2 = VB_FC @ Af[ind(s), :] @ B[:, ind(s)] @ E[ind(s)][:, np.arange(G) != s-1]\n",
    "\n",
    "        DFs = pd.DataFrame({\n",
    "            't': year,\n",
    "            's': s,\n",
    "            'r': np.setdiff1d(np.arange(1, G+1), s),\n",
    "            'Exports': Exports,\n",
    "            'DAVAX1': DAVAX1,\n",
    "            'DAVAX2': DAVAX2,\n",
    "            'REX1': REX1,\n",
    "            'REX2': REX2,\n",
    "            'REX3': REX3,\n",
    "            'REF1': REF1,\n",
    "            'REF2': REF2,\n",
    "            'FVA': FVA,\n",
    "            'PDC1': PDC1,\n",
    "            'PDC2': PDC2\n",
    "        })\n",
    "        DF = pd.concat([DF, DFs], ignore_index=True)\n",
    "\n",
    "    print(f'{year} done')\n",
    "\n",
    "if version is None:\n",
    "    outputfilename = f'{outputfileroot}.parquet'\n",
    "else:\n",
    "    outputfilename = f'{outputfileroot}_{version}.parquet'\n",
    "\n",
    "DF.to_parquet(f'../data/interim/trade-accounting/{outputfilename}', index=False)"
   ]
  },
  {
   "attachments": {},
   "cell_type": "markdown",
   "metadata": {},
   "source": [
    "### By export sectors"
   ]
  },
  {
   "cell_type": "code",
   "execution_count": 456,
   "metadata": {},
   "outputs": [
    {
     "name": "stdout",
     "output_type": "stream",
     "text": [
      "2017 done\n",
      "2018 done\n",
      "2019 done\n",
      "2020 done\n",
      "2021 done\n"
     ]
    }
   ],
   "source": [
    "DF = pd.DataFrame()\n",
    "\n",
    "for file in filelist:\n",
    "    \n",
    "    year = re.search('[0-9]{4}', file).group()\n",
    "\n",
    "    mrio = duckdb.sql(\n",
    "        f\"\"\"\n",
    "        SELECT * EXCLUDE(C0)\n",
    "        FROM read_parquet('../data/final/{inputfolder}/{file}')\n",
    "        \"\"\"\n",
    "    ).df()\n",
    "    mrio = mrio.values\n",
    "\n",
    "    x = mrio[-1][:(G*N)]\n",
    "    Z = mrio[:(G*N)][:, :(G*N)]\n",
    "    zuse = np.sum(Z, axis=0)\n",
    "    zsales = np.sum(Z, axis=1)\n",
    "    va = np.sum(mrio[-7:-1][:, :(G*N)], axis=0)\n",
    "    Y_big = mrio[:(G*N)][:, (G*N):-1]\n",
    "    Y = Y_big @ np.kron(np.eye(G), np.ones((f, 1)))\n",
    "    Yd = zeroout(Y, inverse=True)\n",
    "    Yf = zeroout(Y)\n",
    "    v = np.where(x != 0, va / x, 0)\n",
    "    Dx = np.diag(np.where(x != 0, 1 / x, 0))\n",
    "    A = Z @ Dx\n",
    "    Ad = zeroout(A, inverse=True)\n",
    "    Af = zeroout(A)\n",
    "    B = np.linalg.inv(np.eye(G*N) - A)\n",
    "    Bd = np.linalg.inv(np.eye(G*N) - Ad)\n",
    "    E = zeroout(Z @ np.kron(np.eye(G), np.ones((N, 1))) + Y)\n",
    "\n",
    "    for s in range(1, G+1):\n",
    "\n",
    "        Exports = E[ind(s)][:, np.arange(G) != s-1]\n",
    "        Bnots = np.linalg.inv(np.eye(G*N) - zeroout(A, row=ind(s), col=ind(-s)))\n",
    "        VB_DC = np.diag(v[ind(s)] @ Bnots[np.ix_(ind(s), ind(s))])\n",
    "        VB_FC = np.diag(v[ind(-s)] @ Bnots[np.ix_(ind(-s), ind(s))])\n",
    "        DAVAX1 = VB_DC @ Y[ind(s)][:, np.arange(G) != s-1]\n",
    "        DAVAX2 = VB_DC @ A[np.ix_(ind(s), ind(-s))] @ Bd[np.ix_(ind(-s), ind(-s))] @ Yd[ind(-s)][:, np.arange(G) != s-1]\n",
    "        REX1 = VB_DC @ A[np.ix_(ind(s), ind(-s))] @ Bd[np.ix_(ind(-s), ind(-s))] @ diagvec(np.sum(Yf[ind(-s)][:, np.arange(G) != s-1], axis=1))\n",
    "        REX2 = VB_DC @ A[np.ix_(ind(s), ind(-s))] @ Bd[np.ix_(ind(-s), ind(-s))] @ diagmat(Af[ind(-s), :] @ B @ Y[:, np.arange(G) != s-1], offd=True)\n",
    "        REX3 = VB_DC @ A[np.ix_(ind(s), ind(-s))] @ Bd[np.ix_(ind(-s), ind(-s))] @ diagmat(Af[ind(-s), :] @ B @ Y[:, np.arange(G) != s-1])\n",
    "        REF1 = VB_DC @ A[np.ix_(ind(s), ind(-s))] @ Bd[np.ix_(ind(-s), ind(-s))] @ diagvec(Yf[ind(-s)][:, s-1])\n",
    "        REF2 = VB_DC @ A[np.ix_(ind(s), ind(-s))] @ Bd[np.ix_(ind(-s), ind(-s))] @ diagvec(Af[ind(-s), :] @ B @ Y[:, s-1])\n",
    "        FVA = VB_FC @ E[ind(s)][:, np.arange(G) != s-1]\n",
    "        PDC1 = np.diag(v[ind(s)] @ Bnots[np.ix_(ind(s), ind(s))] @ Af[ind(s), :] @ B[:, ind(s)]) @ E[ind(s)][:, np.arange(G) != s-1]\n",
    "        PDC2 = np.diag(v[ind(-s)] @ Bnots[np.ix_(ind(-s), ind(s))] @ Af[ind(s), :] @ B[:, ind(s)]) @ E[ind(s)][:, np.arange(G) != s-1]\n",
    "\n",
    "        DFs = pd.DataFrame({\n",
    "            't': year,\n",
    "            's': s,\n",
    "            'r': np.setdiff1d(np.arange(1, G+1), s).repeat(N),\n",
    "            'i': np.tile(sectors['ind'], G-1),\n",
    "            'i5': np.tile(sectors['ind5'], G-1),\n",
    "            'i15': np.tile(sectors['ind15'], G-1),\n",
    "            'Exports': asvector(Exports),\n",
    "            'DAVAX1': asvector(DAVAX1),\n",
    "            'DAVAX2': asvector(DAVAX2),\n",
    "            'REX1': asvector(REX1),\n",
    "            'REX2': asvector(REX2),\n",
    "            'REX3': asvector(REX3),\n",
    "            'REF1': asvector(REF1),\n",
    "            'REF2': asvector(REF2),\n",
    "            'FVA': asvector(FVA),\n",
    "            'PDC1': asvector(PDC1),\n",
    "            'PDC2': asvector(PDC2),\n",
    "        })\n",
    "        DF = pd.concat([DF, DFs], ignore_index=True)\n",
    "\n",
    "    print(f'{year} done')\n",
    "\n",
    "if version is None:\n",
    "    outputfilename = f'{outputfileroot}-es.parquet'\n",
    "else:\n",
    "    outputfilename = f'{outputfileroot}-es_{version}.parquet'\n",
    "\n",
    "DF.to_parquet(f'../data/interim/trade-accounting/{outputfilename}', index=False)"
   ]
  },
  {
   "attachments": {},
   "cell_type": "markdown",
   "metadata": {},
   "source": [
    "### By origin sectors"
   ]
  },
  {
   "cell_type": "code",
   "execution_count": 16,
   "metadata": {},
   "outputs": [
    {
     "name": "stdout",
     "output_type": "stream",
     "text": [
      "2017 done\n",
      "2018 done\n",
      "2019 done\n",
      "2020 done\n",
      "2021 done\n"
     ]
    }
   ],
   "source": [
    "DF = pd.DataFrame()\n",
    "\n",
    "for file in filelist:\n",
    "    \n",
    "    year = re.search('[0-9]{4}', file).group()\n",
    "\n",
    "    mrio = duckdb.sql(\n",
    "        f\"\"\"\n",
    "        SELECT * EXCLUDE(C0)\n",
    "        FROM read_parquet('../data/interim/{inputfolder}/{file}')\n",
    "        \"\"\"\n",
    "    ).df()\n",
    "    mrio = mrio.values\n",
    "\n",
    "    x = mrio[-1][:(G*N)]\n",
    "    Z = mrio[:(G*N)][:, :(G*N)]\n",
    "    zuse = np.sum(Z, axis=0)\n",
    "    zsales = np.sum(Z, axis=1)\n",
    "    va = np.sum(mrio[-7:-1][:, :(G*N)], axis=0)\n",
    "    Y_big = mrio[:(G*N)][:, (G*N):-1]\n",
    "    Y = Y_big @ np.kron(np.eye(G), np.ones((f, 1)))\n",
    "    Yd = zeroout(Y, inverse=True)\n",
    "    Yf = zeroout(Y)\n",
    "    v = np.where(x != 0, va / x, 0)\n",
    "    Dx = np.diag(np.where(x != 0, 1 / x, 0))\n",
    "    A = Z @ Dx\n",
    "    Ad = zeroout(A, inverse=True)\n",
    "    Af = zeroout(A)\n",
    "    B = np.linalg.inv(np.eye(G*N) - A)\n",
    "    Bd = np.linalg.inv(np.eye(G*N) - Ad)\n",
    "    E = zeroout(Z @ np.kron(np.eye(G), np.ones((N, 1))) + Y)\n",
    "\n",
    "    for s in range(1, G+1):\n",
    "\n",
    "        Exports = E[ind(s)][:, np.arange(G) != s-1]\n",
    "        Bnots = np.linalg.inv(np.eye(G*N) - zeroout(A, row=ind(s), col=ind(-s)))\n",
    "        VB_DC = np.diag(v[ind(s)]) @ Bnots[np.ix_(ind(s), ind(s))]\n",
    "        VB_FC = diagrow(v[ind(-s)]) @ Bnots[np.ix_(ind(-s), ind(s))]\n",
    "        DAVAX1 = VB_DC @ Y[ind(s)][:, np.arange(G) != s-1]\n",
    "        DAVAX2 = VB_DC @ A[np.ix_(ind(s), ind(-s))] @ Bd[np.ix_(ind(-s), ind(-s))] @ Yd[ind(-s)][:, np.arange(G) != s-1]\n",
    "        REX1 = VB_DC @ A[np.ix_(ind(s), ind(-s))] @ Bd[np.ix_(ind(-s), ind(-s))] @ diagvec(np.sum(Yf[ind(-s)][:, np.arange(G) != s-1], axis=1))\n",
    "        REX2 = VB_DC @ A[np.ix_(ind(s), ind(-s))] @ Bd[np.ix_(ind(-s), ind(-s))] @ diagmat(Af[ind(-s), :] @ B @ Y[:, np.arange(G) != s-1], offd=True)\n",
    "        REX3 = VB_DC @ A[np.ix_(ind(s), ind(-s))] @ Bd[np.ix_(ind(-s), ind(-s))] @ diagmat(Af[ind(-s), :] @ B @ Y[:, np.arange(G) != s-1])\n",
    "        REF1 = VB_DC @ A[np.ix_(ind(s), ind(-s))] @ Bd[np.ix_(ind(-s), ind(-s))] @ diagvec(Yf[ind(-s)][:, s-1])\n",
    "        REF2 = VB_DC @ A[np.ix_(ind(s), ind(-s))] @ Bd[np.ix_(ind(-s), ind(-s))] @ diagvec(Af[ind(-s), :] @ B @ Y[:, s-1])\n",
    "        FVA = VB_FC @ E[ind(s)][:, np.arange(G) != s-1]\n",
    "        PDC1 = VB_DC @ Af[ind(s), :] @ B[:, ind(s)] @ E[ind(s)][:, np.arange(G) != s-1]\n",
    "        PDC2 = VB_FC @ Af[ind(s), :] @ B[:, ind(s)] @ E[ind(s)][:, np.arange(G) != s-1]\n",
    "\n",
    "        DFs = pd.DataFrame({\n",
    "            't': year,\n",
    "            's': s,\n",
    "            'r': np.setdiff1d(np.arange(1, G+1), s).repeat(N),\n",
    "            'i': np.tile(sectors['ind'], G-1),\n",
    "            'i5': np.tile(sectors['ind5'], G-1),\n",
    "            'i15': np.tile(sectors['ind15'], G-1),\n",
    "            'Exports': asvector(Exports),\n",
    "            'DAVAX1': asvector(DAVAX1),\n",
    "            'DAVAX2': asvector(DAVAX2),\n",
    "            'REX1': asvector(REX1),\n",
    "            'REX2': asvector(REX2),\n",
    "            'REX3': asvector(REX3),\n",
    "            'REF1': asvector(REF1),\n",
    "            'REF2': asvector(REF2),\n",
    "            'FVA': asvector(FVA),\n",
    "            'PDC1': asvector(PDC1),\n",
    "            'PDC2': asvector(PDC2),\n",
    "        })\n",
    "        DF = pd.concat([DF, DFs], ignore_index=True)\n",
    "\n",
    "    print(f'{year} done')\n",
    "\n",
    "if version is None:\n",
    "    outputfilename = f'{outputfileroot}-os.parquet'\n",
    "else:\n",
    "    outputfilename = f'{outputfileroot}-os_{version}.parquet'\n",
    "\n",
    "DF.to_parquet(f'../data/interim/trade-accounting/{outputfilename}', index=False)"
   ]
  }
 ],
 "metadata": {
  "kernelspec": {
   "display_name": "adb",
   "language": "python",
   "name": "python3"
  },
  "language_info": {
   "codemirror_mode": {
    "name": "ipython",
    "version": 3
   },
   "file_extension": ".py",
   "mimetype": "text/x-python",
   "name": "python",
   "nbconvert_exporter": "python",
   "pygments_lexer": "ipython3",
   "version": "3.11.2"
  },
  "orig_nbformat": 4
 },
 "nbformat": 4,
 "nbformat_minor": 2
}
