{
 "cells": [
  {
   "attachments": {},
   "cell_type": "markdown",
   "metadata": {},
   "source": [
    "# Trade accounting\n",
    "\n",
    "This notebook decomposes gross exports into value added categories according to the Borin and Mancini (2019) trade accounting framework. The following table describes each category mathematically and intuitively.\n",
    "\n",
    "| Category | Formula | Description |\n",
    "| ---- | ------- | ----------- |\n",
    "| `DAVAX1` | $\\mathbf{v}_s \\mathbf{B}^{(s)}_{ss} \\mathbf{y}_{sr}$ | Domestic value added (DVA) completed in $s$ and sent to $r$ |\n",
    "| `DAVAX2` | $\\mathbf{v}_s \\mathbf{B}^{(s)}_{ss} \\mathbf{A}_{sr} \\mathbf{B}^d_{rr} \\mathbf{y}_{rr}$ | DVA in intermediates sent to, completed by, and absorbed in $r$ |\n",
    "| `REX1` | $\\mathbf{v}_s \\mathbf{B}^{(s)}_{ss} \\mathbf{A}_{sr} \\mathbf{B}^d_{rr} \\sum_{u \\neq r,s} \\mathbf{y}_{ru}$ | DVA in intermediates sent to and completed by $r$ then exported to third economy |\n",
    "| `REX2` | $\\mathbf{v}_s \\mathbf{B}^{(s)}_{ss} \\mathbf{A}_{sr} \\mathbf{B}^d_{rr} \\sum_{u \\neq r,s} \\mathbf{A}_{ru} \\sum_k \\sum_{\\ell \\neq s,r} \\mathbf{B}_{uk} \\mathbf{y}_{k\\ell}$ | DVA in intermediates sent to and re-exported by $r$ and eventually absorbed in third economy |\n",
    "| `REX3` | $\\mathbf{v}_s \\mathbf{B}^{(s)}_{ss} \\mathbf{A}_{sr} \\mathbf{B}^d_{rr} \\sum_{u \\neq r,s} \\mathbf{A}_{ru} \\sum_k \\mathbf{B}_{uk} \\mathbf{y}_{kr}$ | DVA in intermediates sent to and re-exported by $r$ and eventually absorbed in $r$ |\n",
    "| `REF1` | $\\mathbf{v}_s \\mathbf{B}^{(s)}_{ss} \\mathbf{A}_{sr} \\mathbf{B}^d_{rr} \\mathbf{y}_{rs}$ | DVA in intermediates sent to and completed by $r$ then exported to $s$ |\n",
    "| `REF2` | $\\mathbf{v}_s \\mathbf{B}^{(s)}_{ss} \\mathbf{A}_{sr} \\mathbf{B}^d_{rr} \\sum_{u \\neq r} \\mathbf{A}_{ru} \\sum_k \\mathbf{B}_{uk} \\mathbf{y}_{ks}$ | DVA in intermediates sent to and re-exported by $r$ and eventually absorbed in $s$ |\n",
    "| `FVA` | $\\sum_{t \\neq s} \\mathbf{v}_t \\mathbf{B}^{(s)}_{ts} \\mathbf{e}_{sr}$ | Foreign value added (FVA) in gross exports |\n",
    "| `PDC1` | $\\mathbf{v}_s \\mathbf{B}^{(s)}_{ss} \\sum_{s \\neq u} \\mathbf{A}_{su} \\mathbf{B}_{us} \\mathbf{e}_{sr}$ | Pure double counting (PDC) of domestic origin |\n",
    "| `PDC2` | $\\sum_{t \\neq s} \\mathbf{v}_t \\mathbf{B}^{(s)}_{ts} \\sum_{s \\neq u} \\mathbf{A}_{su} \\mathbf{B}_{us} \\mathbf{e}_{sr}$ | PDC of foreign origin |\n",
    "\n",
    "Select the MRIO version to load from `data/mrio/` as well as the corresponding output filename to be saved in `data/`."
   ]
  },
  {
   "attachments": {},
   "cell_type": "markdown",
   "metadata": {},
   "source": [
    "## Setup"
   ]
  },
  {
   "cell_type": "code",
   "execution_count": null,
   "metadata": {},
   "outputs": [],
   "source": [
    "import numpy as np\n",
    "import pandas as pd\n",
    "import duckdb\n",
    "from functions import subset, asvector, zeroout, diagvec, diagmat, diagrow"
   ]
  },
  {
   "cell_type": "markdown",
   "metadata": {},
   "source": [
    "### Select MRIO version"
   ]
  },
  {
   "cell_type": "code",
   "execution_count": null,
   "metadata": {},
   "outputs": [],
   "source": [
    "input, output = 'adb-mrio.parquet', 'ta.parquet'\n",
    "# input, output = 'adb-mrio62.parquet', 'ta62.parquet'\n",
    "# input, output = 'adb-mrio62-const.parquet', 'ta62-const.parquet'"
   ]
  },
  {
   "cell_type": "markdown",
   "metadata": {},
   "source": [
    "### Parameters"
   ]
  },
  {
   "cell_type": "code",
   "execution_count": null,
   "metadata": {},
   "outputs": [],
   "source": [
    "sectors = pd.read_excel('../data/raw/sectors.xlsx').drop_duplicates(subset='ind', ignore_index=True)\n",
    "years = duckdb.sql(f\"SELECT DISTINCT t FROM read_parquet('../data/mrio/{input}') ORDER BY t\").df()['t']\n",
    "rows = duckdb.sql(f\"SELECT COUNT(*) FROM read_parquet('../data/mrio/{input}')\").df()\n",
    "\n",
    "N = 35                                              # Number of sectors\n",
    "G = int((rows.iloc[0, 0] / len(years) - 7) / N)     # Number of countries + 1\n",
    "f = 5                                               # Number of final demand components\n",
    "\n",
    "np.seterr(divide='ignore', invalid='ignore')"
   ]
  },
  {
   "attachments": {},
   "cell_type": "markdown",
   "metadata": {},
   "source": [
    "## Decompositions"
   ]
  },
  {
   "cell_type": "code",
   "execution_count": null,
   "metadata": {},
   "outputs": [],
   "source": [
    "ta, ta_es, ta_os = pd.DataFrame(), pd.DataFrame(), pd.DataFrame()\n",
    "\n",
    "for year in years:\n",
    "    \n",
    "    mrio = duckdb.sql(f\"SELECT * EXCLUDE(t, si) FROM read_parquet('../data/mrio/{input}') WHERE t={year}\").df()\n",
    "    mrio = mrio.values\n",
    "\n",
    "    x = mrio[-1][:(G*N)]\n",
    "    Z = mrio[:(G*N)][:, :(G*N)]\n",
    "    va = np.sum(mrio[-7:-1][:, :(G*N)], axis=0)\n",
    "    Y_big = mrio[:(G*N)][:, (G*N):-1]\n",
    "    Y = Y_big @ np.kron(np.eye(G), np.ones((f, 1)))\n",
    "    Yd, Yf = zeroout(Y, inverse=True), zeroout(Y)\n",
    "    v = np.where(x != 0, va/x, 0)\n",
    "    A = Z @ np.diag(np.where(x != 0, 1/x, 0))\n",
    "    Ad, Af = zeroout(A, inverse=True), zeroout(A)\n",
    "    B = np.linalg.inv(np.eye(G*N) - A)\n",
    "    Bd = np.linalg.inv(np.eye(G*N) - Ad)\n",
    "    E = zeroout(Z @ np.kron(np.eye(G), np.ones((N, 1))) + Y)\n",
    "\n",
    "    for s in range(1, G+1):\n",
    "\n",
    "        # Country level\n",
    "\n",
    "        Exports = np.sum(subset(E, s, -s), axis=0)\n",
    "        Bnots = np.linalg.inv(np.eye(G*N) - zeroout(A, s, -s))\n",
    "        VB_DC = subset(v, s) @ subset(Bnots, s, s)\n",
    "        VB_FC = subset(v, -s) @ subset(Bnots, -s, s)\n",
    "        DAVAX1 = VB_DC @ subset(Y, s, -s)\n",
    "        DAVAX2 = VB_DC @ subset(A, s, -s) @ subset(Bd, -s, -s) @ subset(Yd, -s, -s)\n",
    "        REX1 = VB_DC @ subset(A, s, -s) @ subset(Bd, -s, -s) @ diagvec(np.sum(subset(Yf, -s, -s), axis=1))\n",
    "        REX2 = VB_DC @ subset(A, s, -s) @ subset(Bd, -s, -s) @ diagmat(subset(Af, -s, 0) @ B @ subset(Y, 0, -s), offd=True)\n",
    "        REX3 = VB_DC @ subset(A, s, -s) @ subset(Bd, -s, -s) @ diagmat(subset(Af, -s, 0) @ B @ subset(Y, 0, -s))\n",
    "        REF1 = VB_DC @ subset(A, s, -s) @ subset(Bd, -s, -s) @ diagvec(subset(Yf, -s, s))\n",
    "        REF2 = VB_DC @ subset(A, s, -s) @ subset(Bd, -s, -s) @ diagvec(subset(Af, -s, 0) @ B @ subset(Y, 0, s))\n",
    "        FVA = VB_FC @ subset(E, s, -s)\n",
    "        PDC1 = VB_DC @ subset(Af, s, 0) @ subset(B, 0, s) @ subset(E, s, -s)\n",
    "        PDC2 = VB_FC @ subset(Af, s, 0) @ subset(B, 0, s) @ subset(E, s, -s)\n",
    "\n",
    "        ta_s = pd.DataFrame({\n",
    "            't': int(year), 's': s, 'r': np.setdiff1d(np.arange(1, G+1), s),\n",
    "            'breakdown': 'none', 'i': 0, 'i5': 0, 'i15': 0,\n",
    "            'Exports': Exports,\n",
    "            'DAVAX1': DAVAX1, 'DAVAX2': DAVAX2,\n",
    "            'REX1': REX1, 'REX2': REX2, 'REX3': REX3,\n",
    "            'REF1': REF1, 'REF2': REF2,\n",
    "            'FVA': FVA, 'PDC1': PDC1, 'PDC2': PDC2\n",
    "        })\n",
    "        ta = pd.concat([ta, ta_s], ignore_index=True)\n",
    "\n",
    "        # Breakdown by export sectors\n",
    "\n",
    "        Exports = subset(E, s, -s)\n",
    "        Bnots = np.linalg.inv(np.eye(G*N) - zeroout(A, s, -s))\n",
    "        VB_DC = np.diag(subset(v, s) @ subset(Bnots, s, s))\n",
    "        VB_FC = np.diag(subset(v, -s) @ subset(Bnots, -s, s))\n",
    "        DAVAX1 = VB_DC @ subset(Y, s, -s)\n",
    "        DAVAX2 = VB_DC @ subset(A, s, -s) @ subset(Bd, -s, -s) @ subset(Yd, -s, -s)\n",
    "        REX1 = VB_DC @ subset(A, s, -s) @ subset(Bd, -s, -s) @ diagvec(np.sum(subset(Yf, -s, -s), axis=1))\n",
    "        REX2 = VB_DC @ subset(A, s, -s) @ subset(Bd, -s, -s) @ diagmat(subset(Af, -s, 0) @ B @ subset(Y, 0, -s), offd=True)\n",
    "        REX3 = VB_DC @ subset(A, s, -s) @ subset(Bd, -s, -s) @ diagmat(subset(Af, -s, 0) @ B @ subset(Y, 0, -s))\n",
    "        REF1 = VB_DC @ subset(A, s, -s) @ subset(Bd, -s, -s) @ diagvec(subset(Yf, -s, s))\n",
    "        REF2 = VB_DC @ subset(A, s, -s) @ subset(Bd, -s, -s) @ diagvec(subset(Af, -s, 0) @ B @ subset(Y, 0, s))\n",
    "        FVA = VB_FC @ subset(E, s, -s)\n",
    "        PDC1 = np.diag(subset(v, s) @ subset(Bnots, s, s) @ subset(Af, s, 0) @ subset(B, 0, s)) @ subset(E, s, -s)\n",
    "        PDC2 = np.diag(subset(v, -s) @ subset(Bnots, -s, s) @ subset(Af, s, 0) @ subset(B, 0, s)) @ subset(E, s, -s)\n",
    "\n",
    "        ta_es_s = pd.DataFrame({\n",
    "            't': int(year), 's': s, 'r': np.setdiff1d(np.arange(1, G+1), s).repeat(N),\n",
    "            'breakdown': 'es',\n",
    "            'i': np.tile(sectors['ind'], G-1),\n",
    "            'i5': np.tile(sectors['ind5'], G-1),\n",
    "            'i15': np.tile(sectors['ind15'], G-1),\n",
    "            'Exports': asvector(Exports),\n",
    "            'DAVAX1': asvector(DAVAX1), 'DAVAX2': asvector(DAVAX2),\n",
    "            'REX1': asvector(REX1), 'REX2': asvector(REX2), 'REX3': asvector(REX3),\n",
    "            'REF1': asvector(REF1), 'REF2': asvector(REF2),\n",
    "            'FVA': asvector(FVA), 'PDC1': asvector(PDC1), 'PDC2': asvector(PDC2)\n",
    "        })\n",
    "        ta_es = pd.concat([ta_es, ta_es_s], ignore_index=True)\n",
    "\n",
    "        # Breakdown by origin sectors\n",
    "\n",
    "        VB_DC = np.diag(subset(v, s)) @ subset(Bnots, s, s)\n",
    "        VB_FC = diagrow(subset(v, -s)) @ subset(Bnots, -s, s)\n",
    "        DAVAX1 = VB_DC @ subset(Y, s, -s)\n",
    "        DAVAX2 = VB_DC @ subset(A, s, -s) @ subset(Bd, -s, -s) @ subset(Yd, -s, -s)\n",
    "        REX1 = VB_DC @ subset(A, s, -s) @ subset(Bd, -s, -s) @ diagvec(np.sum(subset(Yf, -s, -s), axis=1))\n",
    "        REX2 = VB_DC @ subset(A, s, -s) @ subset(Bd, -s, -s) @ diagmat(subset(Af, -s, 0) @ B @ subset(Y, 0, -s), offd=True)\n",
    "        REX3 = VB_DC @ subset(A, s, -s) @ subset(Bd, -s, -s) @ diagmat(subset(Af, -s, 0) @ B @ subset(Y, 0, -s))\n",
    "        REF1 = VB_DC @ subset(A, s, -s) @ subset(Bd, -s, -s) @ diagvec(subset(Yf, -s, s))\n",
    "        REF2 = VB_DC @ subset(A, s, -s) @ subset(Bd, -s, -s) @ diagvec(subset(Af, -s, 0) @ B @ subset(Y, 0, s))\n",
    "        FVA = VB_FC @ subset(E, s, -s)\n",
    "        PDC1 = VB_DC @ subset(Af, s, 0) @ subset(B, 0, s) @ subset(E, s, -s)\n",
    "        PDC2 = VB_FC @ subset(Af, s, 0) @ subset(B, 0, s) @ subset(E, s, -s)\n",
    "\n",
    "        ta_os_s = pd.DataFrame({\n",
    "            't': int(year), 's': s, 'r': np.setdiff1d(np.arange(1, G+1), s).repeat(N),\n",
    "            'breakdown': 'os',\n",
    "            'i': np.tile(sectors['ind'], G-1), 'i5': np.tile(sectors['ind5'], G-1), 'i15': np.tile(sectors['ind15'], G-1),\n",
    "            'Exports': asvector(Exports),\n",
    "            'DAVAX1': asvector(DAVAX1), 'DAVAX2': asvector(DAVAX2),\n",
    "            'REX1': asvector(REX1), 'REX2': asvector(REX2), 'REX3': asvector(REX3),\n",
    "            'REF1': asvector(REF1), 'REF2': asvector(REF2),\n",
    "            'FVA': asvector(FVA), 'PDC1': asvector(PDC1), 'PDC2': asvector(PDC2)\n",
    "        })\n",
    "        ta_os = pd.concat([ta_os, ta_os_s], ignore_index=True)\n",
    "\n",
    "    print(f'{year} done')\n",
    "\n",
    "ta = pd.concat([ta, ta_es], ignore_index=True)\n",
    "ta = pd.concat([ta, ta_os], ignore_index=True)\n",
    "ta.to_parquet(f'../data/{output}', index=False)"
   ]
  },
  {
   "cell_type": "markdown",
   "metadata": {},
   "source": [
    "### View results"
   ]
  },
  {
   "cell_type": "code",
   "execution_count": null,
   "metadata": {},
   "outputs": [],
   "source": [
    "duckdb.sql(f\"SELECT * FROM read_parquet('../data/{output}')\").df()"
   ]
  }
 ],
 "metadata": {
  "kernelspec": {
   "display_name": "adb",
   "language": "python",
   "name": "python3"
  },
  "language_info": {
   "codemirror_mode": {
    "name": "ipython",
    "version": 3
   },
   "file_extension": ".py",
   "mimetype": "text/x-python",
   "name": "python",
   "nbconvert_exporter": "python",
   "pygments_lexer": "ipython3",
   "version": "3.11.2"
  },
  "orig_nbformat": 4
 },
 "nbformat": 4,
 "nbformat_minor": 2
}
