{
 "cells": [
  {
   "attachments": {},
   "cell_type": "markdown",
   "metadata": {},
   "source": [
    "# Process ADB MRIO Excel files\n",
    "\n",
    "This notebook converts the ADB MRIO Excel files into machine-readable format and saves them as space-efficient parquet files. \n",
    "\n",
    "For version control purposes, it is important not to make any edits whatsoever to the raw Excel files, even to fix typos or to change file names. Any changes must be made programmatically."
   ]
  },
  {
   "cell_type": "code",
   "execution_count": 2,
   "metadata": {},
   "outputs": [],
   "source": [
    "import pandas as pd\n",
    "import os\n",
    "import re"
   ]
  },
  {
   "attachments": {},
   "cell_type": "markdown",
   "metadata": {},
   "source": [
    "## Helper functions"
   ]
  },
  {
   "cell_type": "code",
   "execution_count": 5,
   "metadata": {},
   "outputs": [],
   "source": [
    "def process_table(df):\n",
    "    \n",
    "    # Remove the last row and the first 2 columns\n",
    "    df = df.drop(df.index[-1])\n",
    "    df = df.iloc[:, 2:]\n",
    "\n",
    "    # Collapse MultiIndex headers into one\n",
    "    df.columns = [f'{level_1}_{level_2}' for level_1, level_2 in df.columns]\n",
    "\n",
    "    # Rename the ToT column\n",
    "    colnames = df.columns.tolist()\n",
    "    mapping = {colnames[-1]: 'ToT'}\n",
    "    df = df.rename(columns=mapping)\n",
    "\n",
    "    # Fix row labels\n",
    "    rowlabels = [f\"{c}_{d}\" if not (pd.isna(c) or c == 'ToT') else d for c, d in zip(df.iloc[:, 0], df.iloc[:, 1])]\n",
    "    df.insert(2, '', rowlabels)\n",
    "    df = df.iloc[:, 2:]\n",
    "    \n",
    "    # Drop intermediates totals\n",
    "    df = df.drop(df[df[''] == 'r60'].index)\n",
    "\n",
    "    # Replace blank cells with zero\n",
    "    df = df.replace(' ', 0)\n",
    "\n",
    "    return df"
   ]
  },
  {
   "attachments": {},
   "cell_type": "markdown",
   "metadata": {},
   "source": [
    "## ADB MRIO 72 economies"
   ]
  },
  {
   "cell_type": "code",
   "execution_count": 136,
   "metadata": {},
   "outputs": [
    {
     "data": {
      "text/plain": [
       "['ADB-MRIO-2019_Dec2022.xlsx',\n",
       " 'ADB-MRIO-2018_Dec2022.xlsx',\n",
       " 'ADB-MRIO-2021_Dec2022-1 (1).xlsx',\n",
       " 'ADB-MRIO-2020_Dec2022.xlsx',\n",
       " 'ADB-MRIO-2017_Dec2022-2.xlsx']"
      ]
     },
     "execution_count": 136,
     "metadata": {},
     "output_type": "execute_result"
    }
   ],
   "source": [
    "foldername = 'ADB MRIO, 72 economies as of Dec 2022'\n",
    "filelist = [file for file in os.listdir('../data/raw/' + foldername) if not file.startswith('.')]\n",
    "filelist"
   ]
  },
  {
   "cell_type": "code",
   "execution_count": 139,
   "metadata": {},
   "outputs": [],
   "source": [
    "for file in filelist:\n",
    "    \n",
    "    mrio = pd.read_excel(\n",
    "        '../raw/ADB MRIO, 72 economies as of Dec 2022/' + file,\n",
    "        skiprows=5,\n",
    "        header=[0,1]\n",
    "    )\n",
    "    \n",
    "    process_table(mrio)\n",
    "    \n",
    "    # Export as parquet\n",
    "    year = re.search('[0-9]{4}', file).group()\n",
    "    mrio.to_parquet(\n",
    "        '../final/ADB-MRIO/ADB-MRIO72-' + year + '.parquet',\n",
    "        index=False)"
   ]
  },
  {
   "attachments": {},
   "cell_type": "markdown",
   "metadata": {},
   "source": [
    "## ADB MRIO 62 economies"
   ]
  },
  {
   "cell_type": "code",
   "execution_count": 140,
   "metadata": {},
   "outputs": [
    {
     "data": {
      "text/plain": [
       "['ADB-MRIO-2008_Mar2022.xlsx',\n",
       " 'ADB-MRIO-2009_Mar2022.xlsx',\n",
       " 'ADB-MRIO-2011_Mar2022.xlsx',\n",
       " 'ADB-MRIO62-2018_Dec2022.xlsx',\n",
       " 'ADB-MRIO-2016_Mar2022.xlsx',\n",
       " 'ADB-MRIO62-2019_Dec2022.xlsx',\n",
       " 'ADB-MRIO-2010_Mar2022.xlsx',\n",
       " 'ADB-MRIO-2012_Mar2022.xlsx',\n",
       " 'ADB-MRIO-2015_Mar2022.xlsx',\n",
       " 'ADB-MRIO-2014_Mar2022.xlsx',\n",
       " 'ADB-MRIO-2013_Mar2022.xlsx',\n",
       " 'ADB-MRIO62-2017_Dec2022.xlsx',\n",
       " 'ADB-MRIO-2007.xlsx',\n",
       " 'ADB-MRIO62-2021_Dec2022.xlsx',\n",
       " 'ADB-MRIO62-2020_Dec2022.xlsx',\n",
       " 'ADB-MRIO-2000_Mar2022-3.xlsx']"
      ]
     },
     "execution_count": 140,
     "metadata": {},
     "output_type": "execute_result"
    }
   ],
   "source": [
    "foldername = 'ADB MRIO, 62 economies'\n",
    "filelist = [file for file in os.listdir('../data/raw/' + foldername) if not file.startswith('.')]\n",
    "filelist"
   ]
  },
  {
   "cell_type": "code",
   "execution_count": 165,
   "metadata": {},
   "outputs": [],
   "source": [
    "for file in filelist:\n",
    "    \n",
    "    mrio = pd.read_excel(\n",
    "        '../raw/ADB MRIO, 62 economies/' + file,\n",
    "        skiprows=5,\n",
    "        header=[0,1]\n",
    "    )\n",
    "    \n",
    "    process_table(mrio)\n",
    "\n",
    "    # Export as parquet\n",
    "    year = re.search('[0-9]{4}', file).group()\n",
    "    mrio.to_parquet(\n",
    "        '../final/ADB-MRIO/ADB-MRIO-' + year + '.parquet',\n",
    "        index=False)"
   ]
  },
  {
   "attachments": {},
   "cell_type": "markdown",
   "metadata": {},
   "source": [
    "## ADB MRIO 72 – Jun 2023"
   ]
  },
  {
   "cell_type": "code",
   "execution_count": 8,
   "metadata": {},
   "outputs": [
    {
     "data": {
      "text/plain": [
       "['ADB-MRIO-2021_June2023.xlsx',\n",
       " 'ADB-MRIO-2022_June2023.xlsx',\n",
       " 'ADB-MRIO-2020_June2023.xlsx']"
      ]
     },
     "execution_count": 8,
     "metadata": {},
     "output_type": "execute_result"
    }
   ],
   "source": [
    "filelist = os.listdir('../data/raw/9 MRIO 2020-2022 for upload (ao Jun 2023)')\n",
    "filelist"
   ]
  },
  {
   "cell_type": "code",
   "execution_count": 12,
   "metadata": {},
   "outputs": [],
   "source": [
    "for file in filelist:\n",
    "    \n",
    "    mrio = pd.read_excel(\n",
    "        '../data/raw/9 MRIO 2020-2022 for upload (ao Jun 2023)/' + file,\n",
    "        skiprows=5,\n",
    "        header=[0,1]\n",
    "    )\n",
    "    \n",
    "    mrio = process_table(mrio)\n",
    "\n",
    "    # Export as parquet\n",
    "    year = re.search('[0-9]{4}', file).group()\n",
    "    mrio.to_parquet(\n",
    "        '../data/final/ADB-MRIO72-checking/ADB-MRIO72-' + year + '.parquet',\n",
    "        index=False)"
   ]
  }
 ],
 "metadata": {
  "kernelspec": {
   "display_name": "adb",
   "language": "python",
   "name": "python3"
  },
  "language_info": {
   "codemirror_mode": {
    "name": "ipython",
    "version": 3
   },
   "file_extension": ".py",
   "mimetype": "text/x-python",
   "name": "python",
   "nbconvert_exporter": "python",
   "pygments_lexer": "ipython3",
   "version": "3.11.2"
  },
  "orig_nbformat": 4
 },
 "nbformat": 4,
 "nbformat_minor": 2
}
