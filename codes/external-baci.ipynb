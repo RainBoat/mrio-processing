{
 "cells": [
  {
   "attachments": {},
   "cell_type": "markdown",
   "metadata": {},
   "source": [
    "# BACI"
   ]
  },
  {
   "cell_type": "code",
   "execution_count": 1,
   "metadata": {},
   "outputs": [],
   "source": [
    "import pandas as pd\n",
    "import os\n",
    "import re"
   ]
  },
  {
   "cell_type": "code",
   "execution_count": 17,
   "metadata": {},
   "outputs": [
    {
     "name": "stdout",
     "output_type": "stream",
     "text": [
      "2002 done\n",
      "2003 done\n",
      "2004 done\n",
      "2005 done\n",
      "2006 done\n",
      "2007 done\n",
      "2008 done\n",
      "2009 done\n",
      "2010 done\n",
      "2011 done\n",
      "2012 done\n",
      "2013 done\n",
      "2014 done\n",
      "2015 done\n",
      "2016 done\n",
      "2017 done\n",
      "2018 done\n",
      "2019 done\n",
      "2020 done\n",
      "2021 done\n"
     ]
    }
   ],
   "source": [
    "inputfolder = 'BACI_HS02_V202301'\n",
    "filelist = [file for file in os.listdir(f'../raw/{inputfolder}') if file.startswith('BACI')]\n",
    "filelist.sort()\n",
    "\n",
    "df = pd.DataFrame()\n",
    "\n",
    "for file in filelist:\n",
    "    year = re.search('[0-9]{4}', file).group()\n",
    "    df = pd.concat(\n",
    "        [df, pd.read_csv(f'../raw/{inputfolder}/{file}')], \n",
    "        ignore_index=True\n",
    "    )\n",
    "    print(f'{year} done')\n",
    "\n",
    "df.to_parquet(f'../final/{inputfolder}.parquet', index=False)"
   ]
  }
 ],
 "metadata": {
  "kernelspec": {
   "display_name": "adb",
   "language": "python",
   "name": "python3"
  },
  "language_info": {
   "codemirror_mode": {
    "name": "ipython",
    "version": 3
   },
   "file_extension": ".py",
   "mimetype": "text/x-python",
   "name": "python",
   "nbconvert_exporter": "python",
   "pygments_lexer": "ipython3",
   "version": "3.11.2"
  },
  "orig_nbformat": 4
 },
 "nbformat": 4,
 "nbformat_minor": 2
}
