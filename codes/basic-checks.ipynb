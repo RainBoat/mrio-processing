{
 "cells": [
  {
   "attachments": {},
   "cell_type": "markdown",
   "metadata": {},
   "source": [
    "# Basic checks\n",
    "\n",
    "This notebook flags any anomaly in the raw MRIO tables that can potentially cause problems in the mathematics of input-output analysis. Anomalies to detect include:\n",
    "\n",
    "1. **Negative value added.** Having negative value added means that a country-sector's total input use exceeds its output. The sum of of its technical coefficients will therefore sum to greater than 1, which can cause the matrix $I - A$ to be singular.\n",
    "\n",
    "1. **Zero output, nonzero inputs and value added.** If country-sectors have zero output, it must follow that both input use and value added are zero."
   ]
  },
  {
   "cell_type": "code",
   "execution_count": 2,
   "metadata": {},
   "outputs": [],
   "source": [
    "import pandas as pd\n",
    "import os"
   ]
  },
  {
   "attachments": {},
   "cell_type": "markdown",
   "metadata": {},
   "source": [
    "## Helper functions"
   ]
  },
  {
   "cell_type": "code",
   "execution_count": 81,
   "metadata": {},
   "outputs": [],
   "source": [
    "def process_table(df):\n",
    "    \n",
    "    # Remove the last row and the first 2 columns\n",
    "    df = df.drop(df.index[-1])\n",
    "    df = df.iloc[:, 2:]\n",
    "\n",
    "    # Collapse MultiIndex headers into one\n",
    "    df.columns = [f'{level_1}_{level_2}' for level_1, level_2 in df.columns]\n",
    "\n",
    "    # Rename the ToT column\n",
    "    colnames = df.columns.tolist()\n",
    "    mapping = {colnames[-1]: 'ToT'}\n",
    "    df = df.rename(columns=mapping)\n",
    "\n",
    "    # Fix row labels\n",
    "    rowlabels = [f\"{c}_{d}\" if not (pd.isna(c) or c == 'ToT') else d for c, d in zip(df.iloc[:, 0], df.iloc[:, 1])]\n",
    "    df.insert(2, '', rowlabels)\n",
    "    df = df.iloc[:, 2:]\n",
    "    \n",
    "    # Drop intermediates totals\n",
    "    df = df.drop(df[df[''] == 'r60'].index)\n",
    "\n",
    "    # Replace blank cells with zero\n",
    "    df = df.replace(' ', 0)\n",
    "\n",
    "    return df"
   ]
  },
  {
   "cell_type": "code",
   "execution_count": 82,
   "metadata": {},
   "outputs": [],
   "source": [
    "def check_negative_va(df):\n",
    "    va = df.iloc[-7:-1].filter(regex='[A-Z]{3}_c\\d')\n",
    "    va = va.sum(axis=0)\n",
    "    return va[va < 0].index.tolist()"
   ]
  },
  {
   "cell_type": "code",
   "execution_count": 83,
   "metadata": {},
   "outputs": [],
   "source": [
    "def check_z_x_mismatch(df):\n",
    "    Z = df.iloc[:-7].filter(regex='[A-Z]{3}_c\\d')\n",
    "    zuse = Z.sum(axis=0)\n",
    "    x = df.iloc[-1].filter(regex='[A-Z]{3}_c\\d')\n",
    "    return "
   ]
  },
  {
   "cell_type": "code",
   "execution_count": 84,
   "metadata": {},
   "outputs": [],
   "source": [
    "def flag_anomalies(filelist):\n",
    "    negative_va = {}\n",
    "    z_x_mismatch = {}\n",
    "\n",
    "    for file in filelist:\n",
    "        mrio = pd.read_excel(\n",
    "            '../data/raw/' + foldername + '/' + file,\n",
    "            skiprows=5,\n",
    "            header=[0,1]\n",
    "        )\n",
    "        mrio = process_table(mrio)\n",
    "        negative_va[file] = check_negative_va(mrio)\n",
    "        z_x_mismatch[file] = check_z_x_mismatch(mrio)\n",
    "    \n",
    "    return negative_va, z_x_mismatch"
   ]
  },
  {
   "attachments": {},
   "cell_type": "markdown",
   "metadata": {},
   "source": [
    "## Checks"
   ]
  },
  {
   "attachments": {},
   "cell_type": "markdown",
   "metadata": {},
   "source": [
    "### MRIO 2020-2022 for upload (ao Jun 2023)"
   ]
  },
  {
   "cell_type": "code",
   "execution_count": null,
   "metadata": {},
   "outputs": [],
   "source": [
    "foldername = '9 MRIO 2020-2022 for upload (ao Jun 2023)'\n",
    "filelist = [file for file in os.listdir('../data/raw/' + foldername) if not file.startswith('.')]\n",
    "\n",
    "negative_va, z_x_mismatch = flag_anomalies(filelist)\n",
    "\n",
    "print('Negative VA')\n",
    "for file, list in negative_va.items():\n",
    "    print(f'{file}: {list}')\n",
    "\n",
    "print('\\nInputs/output mismatch')\n",
    "for file, list in z_x_mismatch.items():\n",
    "    print(f'{file}: {list}')"
   ]
  },
  {
   "attachments": {},
   "cell_type": "markdown",
   "metadata": {},
   "source": [
    "### ADB MRIO, 72 economies as of Dec 2022"
   ]
  },
  {
   "cell_type": "code",
   "execution_count": 64,
   "metadata": {},
   "outputs": [
    {
     "data": {
      "text/plain": [
       "['ADB-MRIO-2019_Dec2022.xlsx',\n",
       " 'ADB-MRIO-2018_Dec2022.xlsx',\n",
       " 'ADB-MRIO-2021_Dec2022-1 (1).xlsx',\n",
       " 'ADB-MRIO-2020_Dec2022.xlsx',\n",
       " 'ADB-MRIO-2017_Dec2022-2.xlsx']"
      ]
     },
     "execution_count": 64,
     "metadata": {},
     "output_type": "execute_result"
    }
   ],
   "source": [
    "foldername = 'ADB MRIO, 72 economies as of Dec 2022'\n",
    "filelist = [file for file in os.listdir('../data/raw/' + foldername) if not file.startswith('.')]\n",
    "\n",
    "negative_va, z_x_mismatch = flag_anomalies(filelist)\n",
    "\n",
    "print('Negative VA')\n",
    "for file, list in negative_va.items():\n",
    "    print(f'{file}: {list}')\n",
    "\n",
    "print('\\nInputs/output mismatch')\n",
    "for file, list in z_x_mismatch.items():\n",
    "    print(f'{file}: {list}')"
   ]
  },
  {
   "attachments": {},
   "cell_type": "markdown",
   "metadata": {},
   "source": [
    "### ADB MRIO, 62 economies"
   ]
  },
  {
   "cell_type": "code",
   "execution_count": 96,
   "metadata": {},
   "outputs": [
    {
     "name": "stdout",
     "output_type": "stream",
     "text": [
      "Negative VA\n",
      "ADB-MRIO-2008_Mar2022.xlsx: []\n",
      "ADB-MRIO-2009_Mar2022.xlsx: []\n",
      "ADB-MRIO-2011_Mar2022.xlsx: ['LVA_c25', 'MLT_c2']\n",
      "ADB-MRIO62-2018_Dec2022.xlsx: []\n",
      "ADB-MRIO-2016_Mar2022.xlsx: []\n",
      "ADB-MRIO62-2019_Dec2022.xlsx: ['CYP_c25']\n",
      "ADB-MRIO-2010_Mar2022.xlsx: []\n",
      "ADB-MRIO-2012_Mar2022.xlsx: ['MLT_c2']\n",
      "ADB-MRIO-2015_Mar2022.xlsx: []\n",
      "ADB-MRIO-2014_Mar2022.xlsx: ['MLT_c2']\n",
      "ADB-MRIO-2013_Mar2022.xlsx: ['LUX_c24']\n",
      "ADB-MRIO62-2017_Dec2022.xlsx: []\n",
      "ADB-MRIO-2007.xlsx: []\n",
      "ADB-MRIO62-2021_Dec2022.xlsx: ['CYP_c25', 'CZE_c25', 'FIN_c25', 'FIJ_c25']\n",
      "ADB-MRIO62-2020_Dec2022.xlsx: ['BGR_c8', 'CYP_c25', 'CZE_c25', 'FIN_c25', 'MLT_c25', 'FIJ_c25']\n",
      "ADB-MRIO-2000_Mar2022-3.xlsx: ['MLT_c2']\n",
      "\n",
      "Inputs/output mismatch\n",
      "ADB-MRIO-2008_Mar2022.xlsx: None\n",
      "ADB-MRIO-2009_Mar2022.xlsx: None\n",
      "ADB-MRIO-2011_Mar2022.xlsx: None\n",
      "ADB-MRIO62-2018_Dec2022.xlsx: None\n",
      "ADB-MRIO-2016_Mar2022.xlsx: None\n",
      "ADB-MRIO62-2019_Dec2022.xlsx: None\n",
      "ADB-MRIO-2010_Mar2022.xlsx: None\n",
      "ADB-MRIO-2012_Mar2022.xlsx: None\n",
      "ADB-MRIO-2015_Mar2022.xlsx: None\n",
      "ADB-MRIO-2014_Mar2022.xlsx: None\n",
      "ADB-MRIO-2013_Mar2022.xlsx: None\n",
      "ADB-MRIO62-2017_Dec2022.xlsx: None\n",
      "ADB-MRIO-2007.xlsx: None\n",
      "ADB-MRIO62-2021_Dec2022.xlsx: None\n",
      "ADB-MRIO62-2020_Dec2022.xlsx: None\n",
      "ADB-MRIO-2000_Mar2022-3.xlsx: None\n"
     ]
    }
   ],
   "source": [
    "foldername = 'ADB MRIO, 62 economies'\n",
    "filelist = [file for file in os.listdir('../data/raw/' + foldername) if not file.startswith('.')]\n",
    "\n",
    "negative_va, z_x_mismatch = flag_anomalies(filelist)\n",
    "\n",
    "print('Negative VA')\n",
    "for file, list in negative_va.items():\n",
    "    print(f'{file}: {list}')\n",
    "\n",
    "print('\\nInputs/output mismatch')\n",
    "for file, list in z_x_mismatch.items():\n",
    "    print(f'{file}: {list}')"
   ]
  }
 ],
 "metadata": {
  "kernelspec": {
   "display_name": "adb",
   "language": "python",
   "name": "python3"
  },
  "language_info": {
   "codemirror_mode": {
    "name": "ipython",
    "version": 3
   },
   "file_extension": ".py",
   "mimetype": "text/x-python",
   "name": "python",
   "nbconvert_exporter": "python",
   "pygments_lexer": "ipython3",
   "version": "3.11.2"
  },
  "orig_nbformat": 4
 },
 "nbformat": 4,
 "nbformat_minor": 2
}
