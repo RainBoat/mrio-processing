{
 "cells": [
  {
   "attachments": {},
   "cell_type": "markdown",
   "metadata": {},
   "source": [
    "# Real effective exchange rates\n",
    "\n",
    "Computes the weights matrices for real effective exchange rates following the methodologies of Bems and Johnson (2017) and Patel, Wang, and Wei (2019). REERs are then computed using the weights matrices and MRIO price deflators. Results are saved in `data/reer/`."
   ]
  },
  {
   "cell_type": "markdown",
   "metadata": {},
   "source": [
    "## Set up"
   ]
  },
  {
   "cell_type": "code",
   "execution_count": 1,
   "metadata": {},
   "outputs": [],
   "source": [
    "import numpy as np\n",
    "import pandas as pd\n",
    "import duckdb"
   ]
  },
  {
   "cell_type": "code",
   "execution_count": 2,
   "metadata": {},
   "outputs": [],
   "source": [
    "deflators = 'deflators62.parquet'\n",
    "weights = 'reer62-weights'\n",
    "output = 'reer62.parquet'"
   ]
  },
  {
   "cell_type": "code",
   "execution_count": 3,
   "metadata": {},
   "outputs": [],
   "source": [
    "df1 = duckdb.sql(f\"SELECT * FROM read_parquet('../data/reer/{deflators}') WHERE inflation IS NOT NULL\").df()\n",
    "df2 = duckdb.sql(f\"SELECT * FROM read_parquet('../data/reer/{weights}.parquet')\").df()\n",
    "\n",
    "years = df1['t'].unique()\n",
    "G = df1['s'].max()\n",
    "N = df1['i'].max()\n",
    "methods = df2['method'].unique()"
   ]
  },
  {
   "attachments": {},
   "cell_type": "markdown",
   "metadata": {},
   "source": [
    "## Compute REER index"
   ]
  },
  {
   "cell_type": "markdown",
   "metadata": {},
   "source": [
    "### Country level"
   ]
  },
  {
   "cell_type": "code",
   "execution_count": 4,
   "metadata": {},
   "outputs": [],
   "source": [
    "reer_agg = pd.DataFrame()\n",
    "\n",
    "for method in methods:\n",
    "    \n",
    "    for year in years:\n",
    "        \n",
    "        weights_mt = duckdb.sql(\n",
    "            f\"\"\"\n",
    "            SELECT * EXCLUDE(method, t)\n",
    "            FROM read_parquet('../data/reer/{weights}.parquet')\n",
    "            WHERE method='{method}' AND t={year}\n",
    "            \"\"\"\n",
    "        ).df()\n",
    "\n",
    "        deflators_t = duckdb.sql(\n",
    "            f\"\"\"\n",
    "            SELECT * \n",
    "            FROM read_parquet('../data/reer/{deflators}') \n",
    "            WHERE agg=0 AND t={year}\n",
    "            \"\"\"\n",
    "        ).df()\n",
    "\n",
    "        reer_t = pd.DataFrame({\n",
    "            'method': method,\n",
    "            't': int(year), 's': np.arange(1, G+1), \n",
    "            'agg': 0, 'i': 0,\n",
    "            'reer': weights_mt @ np.array(deflators_t['inflation'])\n",
    "        })\n",
    "\n",
    "        reer_agg = pd.concat([reer_agg, reer_t], ignore_index=True)"
   ]
  },
  {
   "cell_type": "markdown",
   "metadata": {},
   "source": [
    "### Sector level"
   ]
  },
  {
   "cell_type": "code",
   "execution_count": 5,
   "metadata": {},
   "outputs": [],
   "source": [
    "reer_sector = pd.DataFrame()\n",
    "\n",
    "for year in years:\n",
    "    \n",
    "    weights_t = duckdb.sql(\n",
    "        f\"\"\"\n",
    "        SELECT * EXCLUDE(t)\n",
    "        FROM read_parquet('../data/reer/{weights}-sector.parquet')\n",
    "        WHERE t={year}\n",
    "        \"\"\"\n",
    "    ).df()\n",
    "\n",
    "    deflators_t = duckdb.sql(\n",
    "        f\"\"\"\n",
    "        SELECT * \n",
    "        FROM read_parquet('../data/reer/{deflators}') \n",
    "        WHERE agg=35 AND t={year}\n",
    "        \"\"\"\n",
    "    ).df()\n",
    "    \n",
    "    reer_t = pd.DataFrame({\n",
    "        'method': 'pww-sector',\n",
    "        't': year, 's': np.arange(1, G+1).repeat(N),\n",
    "        'agg': 35, 'i': np.tile(np.arange(1, N+1), G),\n",
    "        'reer': weights_t @ np.array(deflators_t['inflation'])\n",
    "    })\n",
    "\n",
    "    reer_sector = pd.concat([reer_sector, reer_t], ignore_index=True)"
   ]
  },
  {
   "cell_type": "code",
   "execution_count": 6,
   "metadata": {},
   "outputs": [],
   "source": [
    "reer = pd.concat([reer_agg, reer_sector]).dropna().reset_index(drop=True)\n",
    "reer.to_parquet(f'../data/reer/{output}', index=False)"
   ]
  },
  {
   "cell_type": "markdown",
   "metadata": {},
   "source": [
    "### View results"
   ]
  },
  {
   "cell_type": "code",
   "execution_count": 7,
   "metadata": {},
   "outputs": [
    {
     "data": {
      "text/html": [
       "<div>\n",
       "<style scoped>\n",
       "    .dataframe tbody tr th:only-of-type {\n",
       "        vertical-align: middle;\n",
       "    }\n",
       "\n",
       "    .dataframe tbody tr th {\n",
       "        vertical-align: top;\n",
       "    }\n",
       "\n",
       "    .dataframe thead th {\n",
       "        text-align: right;\n",
       "    }\n",
       "</style>\n",
       "<table border=\"1\" class=\"dataframe\">\n",
       "  <thead>\n",
       "    <tr style=\"text-align: right;\">\n",
       "      <th></th>\n",
       "      <th>method</th>\n",
       "      <th>t</th>\n",
       "      <th>s</th>\n",
       "      <th>agg</th>\n",
       "      <th>i</th>\n",
       "      <th>reer</th>\n",
       "    </tr>\n",
       "  </thead>\n",
       "  <tbody>\n",
       "    <tr>\n",
       "      <th>0</th>\n",
       "      <td>conventional</td>\n",
       "      <td>2007</td>\n",
       "      <td>1</td>\n",
       "      <td>0</td>\n",
       "      <td>0</td>\n",
       "      <td>0.073512</td>\n",
       "    </tr>\n",
       "    <tr>\n",
       "      <th>1</th>\n",
       "      <td>conventional</td>\n",
       "      <td>2007</td>\n",
       "      <td>2</td>\n",
       "      <td>0</td>\n",
       "      <td>0</td>\n",
       "      <td>0.003320</td>\n",
       "    </tr>\n",
       "    <tr>\n",
       "      <th>2</th>\n",
       "      <td>conventional</td>\n",
       "      <td>2007</td>\n",
       "      <td>3</td>\n",
       "      <td>0</td>\n",
       "      <td>0</td>\n",
       "      <td>0.012165</td>\n",
       "    </tr>\n",
       "    <tr>\n",
       "      <th>3</th>\n",
       "      <td>conventional</td>\n",
       "      <td>2007</td>\n",
       "      <td>4</td>\n",
       "      <td>0</td>\n",
       "      <td>0</td>\n",
       "      <td>0.056238</td>\n",
       "    </tr>\n",
       "    <tr>\n",
       "      <th>4</th>\n",
       "      <td>conventional</td>\n",
       "      <td>2007</td>\n",
       "      <td>5</td>\n",
       "      <td>0</td>\n",
       "      <td>0</td>\n",
       "      <td>0.036892</td>\n",
       "    </tr>\n",
       "    <tr>\n",
       "      <th>...</th>\n",
       "      <td>...</td>\n",
       "      <td>...</td>\n",
       "      <td>...</td>\n",
       "      <td>...</td>\n",
       "      <td>...</td>\n",
       "      <td>...</td>\n",
       "    </tr>\n",
       "    <tr>\n",
       "      <th>35905</th>\n",
       "      <td>pww-sector</td>\n",
       "      <td>2021</td>\n",
       "      <td>63</td>\n",
       "      <td>35</td>\n",
       "      <td>31</td>\n",
       "      <td>-0.015792</td>\n",
       "    </tr>\n",
       "    <tr>\n",
       "      <th>35906</th>\n",
       "      <td>pww-sector</td>\n",
       "      <td>2021</td>\n",
       "      <td>63</td>\n",
       "      <td>35</td>\n",
       "      <td>32</td>\n",
       "      <td>-0.015512</td>\n",
       "    </tr>\n",
       "    <tr>\n",
       "      <th>35907</th>\n",
       "      <td>pww-sector</td>\n",
       "      <td>2021</td>\n",
       "      <td>63</td>\n",
       "      <td>35</td>\n",
       "      <td>33</td>\n",
       "      <td>-0.015191</td>\n",
       "    </tr>\n",
       "    <tr>\n",
       "      <th>35908</th>\n",
       "      <td>pww-sector</td>\n",
       "      <td>2021</td>\n",
       "      <td>63</td>\n",
       "      <td>35</td>\n",
       "      <td>34</td>\n",
       "      <td>-0.014267</td>\n",
       "    </tr>\n",
       "    <tr>\n",
       "      <th>35909</th>\n",
       "      <td>pww-sector</td>\n",
       "      <td>2021</td>\n",
       "      <td>63</td>\n",
       "      <td>35</td>\n",
       "      <td>35</td>\n",
       "      <td>-0.014967</td>\n",
       "    </tr>\n",
       "  </tbody>\n",
       "</table>\n",
       "<p>35910 rows × 6 columns</p>\n",
       "</div>"
      ],
      "text/plain": [
       "             method     t   s  agg   i      reer\n",
       "0      conventional  2007   1    0   0  0.073512\n",
       "1      conventional  2007   2    0   0  0.003320\n",
       "2      conventional  2007   3    0   0  0.012165\n",
       "3      conventional  2007   4    0   0  0.056238\n",
       "4      conventional  2007   5    0   0  0.036892\n",
       "...             ...   ...  ..  ...  ..       ...\n",
       "35905    pww-sector  2021  63   35  31 -0.015792\n",
       "35906    pww-sector  2021  63   35  32 -0.015512\n",
       "35907    pww-sector  2021  63   35  33 -0.015191\n",
       "35908    pww-sector  2021  63   35  34 -0.014267\n",
       "35909    pww-sector  2021  63   35  35 -0.014967\n",
       "\n",
       "[35910 rows x 6 columns]"
      ]
     },
     "execution_count": 7,
     "metadata": {},
     "output_type": "execute_result"
    }
   ],
   "source": [
    "duckdb.sql(f\"SELECT * FROM read_parquet('../data/reer/{output}')\").df()"
   ]
  }
 ],
 "metadata": {
  "kernelspec": {
   "display_name": "adb",
   "language": "python",
   "name": "python3"
  },
  "language_info": {
   "codemirror_mode": {
    "name": "ipython",
    "version": 3
   },
   "file_extension": ".py",
   "mimetype": "text/x-python",
   "name": "python",
   "nbconvert_exporter": "python",
   "pygments_lexer": "ipython3",
   "version": "3.11.2"
  },
  "orig_nbformat": 4
 },
 "nbformat": 4,
 "nbformat_minor": 2
}
